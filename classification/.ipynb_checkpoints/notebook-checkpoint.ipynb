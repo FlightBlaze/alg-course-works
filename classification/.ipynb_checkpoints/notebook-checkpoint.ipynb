{
 "cells": [
  {
   "cell_type": "markdown",
   "id": "7c33d2c2-6501-4fb7-a34a-656087b5f29a",
   "metadata": {},
   "source": [
    "### Приступая к работе"
   ]
  },
  {
   "cell_type": "markdown",
   "id": "0196be40-fdb4-4230-a4d8-7a4f595a1a54",
   "metadata": {},
   "source": [
    "__Импортирую библиотеки__"
   ]
  },
  {
   "cell_type": "code",
   "execution_count": 2,
   "id": "69534d21-3e8b-402e-bf50-fdae3887810e",
   "metadata": {},
   "outputs": [],
   "source": [
    "import numpy as np\n",
    "import pandas as pd\n",
    "from sklearn.model_selection import train_test_split\n",
    "# from imblearn import over_sampling, under_sampling\n",
    "import matplotlib.pyplot as plt\n",
    "import seaborn as sns"
   ]
  },
  {
   "cell_type": "markdown",
   "id": "53ce98bc-e765-4568-a5b6-e7f56470e18d",
   "metadata": {},
   "source": [
    "__Открою датасет__"
   ]
  },
  {
   "cell_type": "code",
   "execution_count": 3,
   "id": "4211d3ad-5b2c-4b40-a28e-f180d2cf9953",
   "metadata": {},
   "outputs": [],
   "source": [
    "train = pd.read_csv('data/train.csv')\n",
    "test = pd.read_csv('data/test.csv')"
   ]
  },
  {
   "cell_type": "code",
   "execution_count": 4,
   "id": "81a68151-3b86-4020-9656-5c009dc45b51",
   "metadata": {},
   "outputs": [
    {
     "data": {
      "text/html": [
       "<div>\n",
       "<style scoped>\n",
       "    .dataframe tbody tr th:only-of-type {\n",
       "        vertical-align: middle;\n",
       "    }\n",
       "\n",
       "    .dataframe tbody tr th {\n",
       "        vertical-align: top;\n",
       "    }\n",
       "\n",
       "    .dataframe thead th {\n",
       "        text-align: right;\n",
       "    }\n",
       "</style>\n",
       "<table border=\"1\" class=\"dataframe\">\n",
       "  <thead>\n",
       "    <tr style=\"text-align: right;\">\n",
       "      <th></th>\n",
       "      <th>Id</th>\n",
       "      <th>age</th>\n",
       "      <th>years_of_experience</th>\n",
       "      <th>lesson_price</th>\n",
       "      <th>qualification</th>\n",
       "      <th>physics</th>\n",
       "      <th>chemistry</th>\n",
       "      <th>biology</th>\n",
       "      <th>english</th>\n",
       "      <th>geography</th>\n",
       "      <th>history</th>\n",
       "      <th>mean_exam_points</th>\n",
       "      <th>choose</th>\n",
       "    </tr>\n",
       "  </thead>\n",
       "  <tbody>\n",
       "    <tr>\n",
       "      <th>0</th>\n",
       "      <td>0</td>\n",
       "      <td>35.0</td>\n",
       "      <td>0.0</td>\n",
       "      <td>2150.0</td>\n",
       "      <td>2.0</td>\n",
       "      <td>0.0</td>\n",
       "      <td>0.0</td>\n",
       "      <td>0.0</td>\n",
       "      <td>0.0</td>\n",
       "      <td>0.0</td>\n",
       "      <td>0.0</td>\n",
       "      <td>74.0</td>\n",
       "      <td>0</td>\n",
       "    </tr>\n",
       "    <tr>\n",
       "      <th>1</th>\n",
       "      <td>1</td>\n",
       "      <td>52.0</td>\n",
       "      <td>2.0</td>\n",
       "      <td>1250.0</td>\n",
       "      <td>2.0</td>\n",
       "      <td>1.0</td>\n",
       "      <td>0.0</td>\n",
       "      <td>1.0</td>\n",
       "      <td>0.0</td>\n",
       "      <td>0.0</td>\n",
       "      <td>1.0</td>\n",
       "      <td>57.0</td>\n",
       "      <td>1</td>\n",
       "    </tr>\n",
       "    <tr>\n",
       "      <th>2</th>\n",
       "      <td>2</td>\n",
       "      <td>29.0</td>\n",
       "      <td>3.0</td>\n",
       "      <td>1750.0</td>\n",
       "      <td>1.0</td>\n",
       "      <td>1.0</td>\n",
       "      <td>0.0</td>\n",
       "      <td>0.0</td>\n",
       "      <td>0.0</td>\n",
       "      <td>0.0</td>\n",
       "      <td>0.0</td>\n",
       "      <td>66.0</td>\n",
       "      <td>0</td>\n",
       "    </tr>\n",
       "    <tr>\n",
       "      <th>3</th>\n",
       "      <td>3</td>\n",
       "      <td>33.0</td>\n",
       "      <td>3.0</td>\n",
       "      <td>1050.0</td>\n",
       "      <td>1.0</td>\n",
       "      <td>0.0</td>\n",
       "      <td>0.0</td>\n",
       "      <td>0.0</td>\n",
       "      <td>0.0</td>\n",
       "      <td>0.0</td>\n",
       "      <td>0.0</td>\n",
       "      <td>66.0</td>\n",
       "      <td>1</td>\n",
       "    </tr>\n",
       "    <tr>\n",
       "      <th>4</th>\n",
       "      <td>4</td>\n",
       "      <td>46.0</td>\n",
       "      <td>3.0</td>\n",
       "      <td>2250.0</td>\n",
       "      <td>2.0</td>\n",
       "      <td>1.0</td>\n",
       "      <td>0.0</td>\n",
       "      <td>0.0</td>\n",
       "      <td>0.0</td>\n",
       "      <td>0.0</td>\n",
       "      <td>0.0</td>\n",
       "      <td>73.0</td>\n",
       "      <td>0</td>\n",
       "    </tr>\n",
       "    <tr>\n",
       "      <th>...</th>\n",
       "      <td>...</td>\n",
       "      <td>...</td>\n",
       "      <td>...</td>\n",
       "      <td>...</td>\n",
       "      <td>...</td>\n",
       "      <td>...</td>\n",
       "      <td>...</td>\n",
       "      <td>...</td>\n",
       "      <td>...</td>\n",
       "      <td>...</td>\n",
       "      <td>...</td>\n",
       "      <td>...</td>\n",
       "      <td>...</td>\n",
       "    </tr>\n",
       "    <tr>\n",
       "      <th>9995</th>\n",
       "      <td>9995</td>\n",
       "      <td>55.0</td>\n",
       "      <td>2.0</td>\n",
       "      <td>2150.0</td>\n",
       "      <td>2.0</td>\n",
       "      <td>1.0</td>\n",
       "      <td>0.0</td>\n",
       "      <td>0.0</td>\n",
       "      <td>0.0</td>\n",
       "      <td>0.0</td>\n",
       "      <td>0.0</td>\n",
       "      <td>79.0</td>\n",
       "      <td>0</td>\n",
       "    </tr>\n",
       "    <tr>\n",
       "      <th>9996</th>\n",
       "      <td>9996</td>\n",
       "      <td>53.0</td>\n",
       "      <td>2.0</td>\n",
       "      <td>1350.0</td>\n",
       "      <td>1.0</td>\n",
       "      <td>0.0</td>\n",
       "      <td>0.0</td>\n",
       "      <td>0.0</td>\n",
       "      <td>0.0</td>\n",
       "      <td>0.0</td>\n",
       "      <td>0.0</td>\n",
       "      <td>59.0</td>\n",
       "      <td>0</td>\n",
       "    </tr>\n",
       "    <tr>\n",
       "      <th>9997</th>\n",
       "      <td>9997</td>\n",
       "      <td>44.0</td>\n",
       "      <td>5.0</td>\n",
       "      <td>1750.0</td>\n",
       "      <td>1.0</td>\n",
       "      <td>0.0</td>\n",
       "      <td>0.0</td>\n",
       "      <td>0.0</td>\n",
       "      <td>0.0</td>\n",
       "      <td>0.0</td>\n",
       "      <td>1.0</td>\n",
       "      <td>59.0</td>\n",
       "      <td>0</td>\n",
       "    </tr>\n",
       "    <tr>\n",
       "      <th>9998</th>\n",
       "      <td>9998</td>\n",
       "      <td>41.0</td>\n",
       "      <td>0.0</td>\n",
       "      <td>1700.0</td>\n",
       "      <td>2.0</td>\n",
       "      <td>1.0</td>\n",
       "      <td>0.0</td>\n",
       "      <td>0.0</td>\n",
       "      <td>0.0</td>\n",
       "      <td>0.0</td>\n",
       "      <td>0.0</td>\n",
       "      <td>72.0</td>\n",
       "      <td>0</td>\n",
       "    </tr>\n",
       "    <tr>\n",
       "      <th>9999</th>\n",
       "      <td>9999</td>\n",
       "      <td>41.0</td>\n",
       "      <td>5.0</td>\n",
       "      <td>1200.0</td>\n",
       "      <td>1.0</td>\n",
       "      <td>0.0</td>\n",
       "      <td>0.0</td>\n",
       "      <td>0.0</td>\n",
       "      <td>0.0</td>\n",
       "      <td>0.0</td>\n",
       "      <td>0.0</td>\n",
       "      <td>40.0</td>\n",
       "      <td>0</td>\n",
       "    </tr>\n",
       "  </tbody>\n",
       "</table>\n",
       "<p>10000 rows × 13 columns</p>\n",
       "</div>"
      ],
      "text/plain": [
       "        Id   age  years_of_experience  lesson_price  qualification  physics  \\\n",
       "0        0  35.0                  0.0        2150.0            2.0      0.0   \n",
       "1        1  52.0                  2.0        1250.0            2.0      1.0   \n",
       "2        2  29.0                  3.0        1750.0            1.0      1.0   \n",
       "3        3  33.0                  3.0        1050.0            1.0      0.0   \n",
       "4        4  46.0                  3.0        2250.0            2.0      1.0   \n",
       "...    ...   ...                  ...           ...            ...      ...   \n",
       "9995  9995  55.0                  2.0        2150.0            2.0      1.0   \n",
       "9996  9996  53.0                  2.0        1350.0            1.0      0.0   \n",
       "9997  9997  44.0                  5.0        1750.0            1.0      0.0   \n",
       "9998  9998  41.0                  0.0        1700.0            2.0      1.0   \n",
       "9999  9999  41.0                  5.0        1200.0            1.0      0.0   \n",
       "\n",
       "      chemistry  biology  english  geography  history  mean_exam_points  \\\n",
       "0           0.0      0.0      0.0        0.0      0.0              74.0   \n",
       "1           0.0      1.0      0.0        0.0      1.0              57.0   \n",
       "2           0.0      0.0      0.0        0.0      0.0              66.0   \n",
       "3           0.0      0.0      0.0        0.0      0.0              66.0   \n",
       "4           0.0      0.0      0.0        0.0      0.0              73.0   \n",
       "...         ...      ...      ...        ...      ...               ...   \n",
       "9995        0.0      0.0      0.0        0.0      0.0              79.0   \n",
       "9996        0.0      0.0      0.0        0.0      0.0              59.0   \n",
       "9997        0.0      0.0      0.0        0.0      1.0              59.0   \n",
       "9998        0.0      0.0      0.0        0.0      0.0              72.0   \n",
       "9999        0.0      0.0      0.0        0.0      0.0              40.0   \n",
       "\n",
       "      choose  \n",
       "0          0  \n",
       "1          1  \n",
       "2          0  \n",
       "3          1  \n",
       "4          0  \n",
       "...      ...  \n",
       "9995       0  \n",
       "9996       0  \n",
       "9997       0  \n",
       "9998       0  \n",
       "9999       0  \n",
       "\n",
       "[10000 rows x 13 columns]"
      ]
     },
     "execution_count": 4,
     "metadata": {},
     "output_type": "execute_result"
    }
   ],
   "source": [
    "train"
   ]
  },
  {
   "cell_type": "code",
   "execution_count": 5,
   "id": "bb5ebafd-82bd-4854-b11f-bb6946af30ab",
   "metadata": {},
   "outputs": [
    {
     "name": "stdout",
     "output_type": "stream",
     "text": [
      "<class 'pandas.core.frame.DataFrame'>\n",
      "RangeIndex: 10000 entries, 0 to 9999\n",
      "Data columns (total 13 columns):\n",
      " #   Column               Non-Null Count  Dtype  \n",
      "---  ------               --------------  -----  \n",
      " 0   Id                   10000 non-null  int64  \n",
      " 1   age                  10000 non-null  float64\n",
      " 2   years_of_experience  10000 non-null  float64\n",
      " 3   lesson_price         10000 non-null  float64\n",
      " 4   qualification        10000 non-null  float64\n",
      " 5   physics              10000 non-null  float64\n",
      " 6   chemistry            10000 non-null  float64\n",
      " 7   biology              10000 non-null  float64\n",
      " 8   english              10000 non-null  float64\n",
      " 9   geography            10000 non-null  float64\n",
      " 10  history              10000 non-null  float64\n",
      " 11  mean_exam_points     10000 non-null  float64\n",
      " 12  choose               10000 non-null  int64  \n",
      "dtypes: float64(11), int64(2)\n",
      "memory usage: 1015.8 KB\n"
     ]
    }
   ],
   "source": [
    "train.info()"
   ]
  },
  {
   "cell_type": "markdown",
   "id": "7a25f8ef-f59f-4728-ba6d-b6b382966f02",
   "metadata": {},
   "source": [
    "__Разделю данные на признаки и целевую переменную__"
   ]
  },
  {
   "cell_type": "code",
   "execution_count": 37,
   "id": "deb040bb-fe70-4d74-936f-3c70aeca541b",
   "metadata": {},
   "outputs": [
    {
     "data": {
      "text/html": [
       "<div>\n",
       "<style scoped>\n",
       "    .dataframe tbody tr th:only-of-type {\n",
       "        vertical-align: middle;\n",
       "    }\n",
       "\n",
       "    .dataframe tbody tr th {\n",
       "        vertical-align: top;\n",
       "    }\n",
       "\n",
       "    .dataframe thead th {\n",
       "        text-align: right;\n",
       "    }\n",
       "</style>\n",
       "<table border=\"1\" class=\"dataframe\">\n",
       "  <thead>\n",
       "    <tr style=\"text-align: right;\">\n",
       "      <th></th>\n",
       "      <th>Id</th>\n",
       "      <th>age</th>\n",
       "      <th>years_of_experience</th>\n",
       "      <th>lesson_price</th>\n",
       "      <th>qualification</th>\n",
       "      <th>physics</th>\n",
       "      <th>chemistry</th>\n",
       "      <th>biology</th>\n",
       "      <th>english</th>\n",
       "      <th>geography</th>\n",
       "      <th>history</th>\n",
       "      <th>mean_exam_points</th>\n",
       "    </tr>\n",
       "  </thead>\n",
       "  <tbody>\n",
       "    <tr>\n",
       "      <th>0</th>\n",
       "      <td>0</td>\n",
       "      <td>35.0</td>\n",
       "      <td>0.0</td>\n",
       "      <td>2150.0</td>\n",
       "      <td>2.0</td>\n",
       "      <td>0.0</td>\n",
       "      <td>0.0</td>\n",
       "      <td>0.0</td>\n",
       "      <td>0.0</td>\n",
       "      <td>0.0</td>\n",
       "      <td>0.0</td>\n",
       "      <td>74.0</td>\n",
       "    </tr>\n",
       "    <tr>\n",
       "      <th>1</th>\n",
       "      <td>1</td>\n",
       "      <td>52.0</td>\n",
       "      <td>2.0</td>\n",
       "      <td>1250.0</td>\n",
       "      <td>2.0</td>\n",
       "      <td>1.0</td>\n",
       "      <td>0.0</td>\n",
       "      <td>1.0</td>\n",
       "      <td>0.0</td>\n",
       "      <td>0.0</td>\n",
       "      <td>1.0</td>\n",
       "      <td>57.0</td>\n",
       "    </tr>\n",
       "    <tr>\n",
       "      <th>2</th>\n",
       "      <td>2</td>\n",
       "      <td>29.0</td>\n",
       "      <td>3.0</td>\n",
       "      <td>1750.0</td>\n",
       "      <td>1.0</td>\n",
       "      <td>1.0</td>\n",
       "      <td>0.0</td>\n",
       "      <td>0.0</td>\n",
       "      <td>0.0</td>\n",
       "      <td>0.0</td>\n",
       "      <td>0.0</td>\n",
       "      <td>66.0</td>\n",
       "    </tr>\n",
       "    <tr>\n",
       "      <th>3</th>\n",
       "      <td>3</td>\n",
       "      <td>33.0</td>\n",
       "      <td>3.0</td>\n",
       "      <td>1050.0</td>\n",
       "      <td>1.0</td>\n",
       "      <td>0.0</td>\n",
       "      <td>0.0</td>\n",
       "      <td>0.0</td>\n",
       "      <td>0.0</td>\n",
       "      <td>0.0</td>\n",
       "      <td>0.0</td>\n",
       "      <td>66.0</td>\n",
       "    </tr>\n",
       "    <tr>\n",
       "      <th>4</th>\n",
       "      <td>4</td>\n",
       "      <td>46.0</td>\n",
       "      <td>3.0</td>\n",
       "      <td>2250.0</td>\n",
       "      <td>2.0</td>\n",
       "      <td>1.0</td>\n",
       "      <td>0.0</td>\n",
       "      <td>0.0</td>\n",
       "      <td>0.0</td>\n",
       "      <td>0.0</td>\n",
       "      <td>0.0</td>\n",
       "      <td>73.0</td>\n",
       "    </tr>\n",
       "    <tr>\n",
       "      <th>...</th>\n",
       "      <td>...</td>\n",
       "      <td>...</td>\n",
       "      <td>...</td>\n",
       "      <td>...</td>\n",
       "      <td>...</td>\n",
       "      <td>...</td>\n",
       "      <td>...</td>\n",
       "      <td>...</td>\n",
       "      <td>...</td>\n",
       "      <td>...</td>\n",
       "      <td>...</td>\n",
       "      <td>...</td>\n",
       "    </tr>\n",
       "    <tr>\n",
       "      <th>9995</th>\n",
       "      <td>9995</td>\n",
       "      <td>55.0</td>\n",
       "      <td>2.0</td>\n",
       "      <td>2150.0</td>\n",
       "      <td>2.0</td>\n",
       "      <td>1.0</td>\n",
       "      <td>0.0</td>\n",
       "      <td>0.0</td>\n",
       "      <td>0.0</td>\n",
       "      <td>0.0</td>\n",
       "      <td>0.0</td>\n",
       "      <td>79.0</td>\n",
       "    </tr>\n",
       "    <tr>\n",
       "      <th>9996</th>\n",
       "      <td>9996</td>\n",
       "      <td>53.0</td>\n",
       "      <td>2.0</td>\n",
       "      <td>1350.0</td>\n",
       "      <td>1.0</td>\n",
       "      <td>0.0</td>\n",
       "      <td>0.0</td>\n",
       "      <td>0.0</td>\n",
       "      <td>0.0</td>\n",
       "      <td>0.0</td>\n",
       "      <td>0.0</td>\n",
       "      <td>59.0</td>\n",
       "    </tr>\n",
       "    <tr>\n",
       "      <th>9997</th>\n",
       "      <td>9997</td>\n",
       "      <td>44.0</td>\n",
       "      <td>5.0</td>\n",
       "      <td>1750.0</td>\n",
       "      <td>1.0</td>\n",
       "      <td>0.0</td>\n",
       "      <td>0.0</td>\n",
       "      <td>0.0</td>\n",
       "      <td>0.0</td>\n",
       "      <td>0.0</td>\n",
       "      <td>1.0</td>\n",
       "      <td>59.0</td>\n",
       "    </tr>\n",
       "    <tr>\n",
       "      <th>9998</th>\n",
       "      <td>9998</td>\n",
       "      <td>41.0</td>\n",
       "      <td>0.0</td>\n",
       "      <td>1700.0</td>\n",
       "      <td>2.0</td>\n",
       "      <td>1.0</td>\n",
       "      <td>0.0</td>\n",
       "      <td>0.0</td>\n",
       "      <td>0.0</td>\n",
       "      <td>0.0</td>\n",
       "      <td>0.0</td>\n",
       "      <td>72.0</td>\n",
       "    </tr>\n",
       "    <tr>\n",
       "      <th>9999</th>\n",
       "      <td>9999</td>\n",
       "      <td>41.0</td>\n",
       "      <td>5.0</td>\n",
       "      <td>1200.0</td>\n",
       "      <td>1.0</td>\n",
       "      <td>0.0</td>\n",
       "      <td>0.0</td>\n",
       "      <td>0.0</td>\n",
       "      <td>0.0</td>\n",
       "      <td>0.0</td>\n",
       "      <td>0.0</td>\n",
       "      <td>40.0</td>\n",
       "    </tr>\n",
       "  </tbody>\n",
       "</table>\n",
       "<p>10000 rows × 12 columns</p>\n",
       "</div>"
      ],
      "text/plain": [
       "        Id   age  years_of_experience  lesson_price  qualification  physics  \\\n",
       "0        0  35.0                  0.0        2150.0            2.0      0.0   \n",
       "1        1  52.0                  2.0        1250.0            2.0      1.0   \n",
       "2        2  29.0                  3.0        1750.0            1.0      1.0   \n",
       "3        3  33.0                  3.0        1050.0            1.0      0.0   \n",
       "4        4  46.0                  3.0        2250.0            2.0      1.0   \n",
       "...    ...   ...                  ...           ...            ...      ...   \n",
       "9995  9995  55.0                  2.0        2150.0            2.0      1.0   \n",
       "9996  9996  53.0                  2.0        1350.0            1.0      0.0   \n",
       "9997  9997  44.0                  5.0        1750.0            1.0      0.0   \n",
       "9998  9998  41.0                  0.0        1700.0            2.0      1.0   \n",
       "9999  9999  41.0                  5.0        1200.0            1.0      0.0   \n",
       "\n",
       "      chemistry  biology  english  geography  history  mean_exam_points  \n",
       "0           0.0      0.0      0.0        0.0      0.0              74.0  \n",
       "1           0.0      1.0      0.0        0.0      1.0              57.0  \n",
       "2           0.0      0.0      0.0        0.0      0.0              66.0  \n",
       "3           0.0      0.0      0.0        0.0      0.0              66.0  \n",
       "4           0.0      0.0      0.0        0.0      0.0              73.0  \n",
       "...         ...      ...      ...        ...      ...               ...  \n",
       "9995        0.0      0.0      0.0        0.0      0.0              79.0  \n",
       "9996        0.0      0.0      0.0        0.0      0.0              59.0  \n",
       "9997        0.0      0.0      0.0        0.0      1.0              59.0  \n",
       "9998        0.0      0.0      0.0        0.0      0.0              72.0  \n",
       "9999        0.0      0.0      0.0        0.0      0.0              40.0  \n",
       "\n",
       "[10000 rows x 12 columns]"
      ]
     },
     "execution_count": 37,
     "metadata": {},
     "output_type": "execute_result"
    }
   ],
   "source": [
    "X = train.drop('choose', axis=1)\n",
    "X"
   ]
  },
  {
   "cell_type": "code",
   "execution_count": 38,
   "id": "cdd154fd-571f-451d-bfa3-bef5e94a5ab9",
   "metadata": {},
   "outputs": [
    {
     "data": {
      "text/plain": [
       "0       0\n",
       "1       1\n",
       "2       0\n",
       "3       1\n",
       "4       0\n",
       "       ..\n",
       "9995    0\n",
       "9996    0\n",
       "9997    0\n",
       "9998    0\n",
       "9999    0\n",
       "Name: choose, Length: 10000, dtype: int64"
      ]
     },
     "execution_count": 38,
     "metadata": {},
     "output_type": "execute_result"
    }
   ],
   "source": [
    "y = train['choose']\n",
    "y"
   ]
  },
  {
   "cell_type": "markdown",
   "id": "b38568e9-42db-405e-88db-c88305a1da9a",
   "metadata": {},
   "source": [
    "__Исследую целевую переменную__"
   ]
  },
  {
   "cell_type": "code",
   "execution_count": 39,
   "id": "a53c4fd3-03ce-49b3-a72d-6331714a4b9b",
   "metadata": {},
   "outputs": [
    {
     "data": {
      "text/plain": [
       "<AxesSubplot:xlabel='choose', ylabel='count'>"
      ]
     },
     "execution_count": 39,
     "metadata": {},
     "output_type": "execute_result"
    },
    {
     "data": {
      "image/png": "[encoded data removed]",
      "text/plain": [
       "<Figure size 432x288 with 1 Axes>"
      ]
     },
     "metadata": {
      "needs_background": "light"
     },
     "output_type": "display_data"
    }
   ],
   "source": [
    "sns.countplot(x='choose', data=train)"
   ]
  },
  {
   "cell_type": "markdown",
   "id": "37051e98-1779-4267-9865-57325cc3cd4c",
   "metadata": {},
   "source": [
    "Наблюдается дисбаланс классов. Буду использовать метрику F1 вместо accuracy"
   ]
  },
  {
   "cell_type": "markdown",
   "id": "e1676aae-a45a-47da-97e4-1916349ab083",
   "metadata": {},
   "source": [
    "### Алгоритм классификации"
   ]
  },
  {
   "cell_type": "markdown",
   "id": "5e8dfd3c-80f6-4155-a208-a6da0f9112b5",
   "metadata": {},
   "source": [
    "__Лист__"
   ]
  },
  {
   "cell_type": "code",
   "execution_count": 40,
   "id": "659c05f8-781c-46d1-9bd4-92a2db8a8795",
   "metadata": {},
   "outputs": [],
   "source": [
    "class Leaf:\n",
    "    \n",
    "    def __init__(self, data, labels):\n",
    "        self.data = data\n",
    "        self.labels = labels\n",
    "        self.prediction = self.predict()\n",
    "        \n",
    "    def predict(self):\n",
    "        # Подсчет количества объектов разных классов\n",
    "        classes = {}  # Сформируем словарь \"класс: количество объектов\"\n",
    "        for label in self.labels:\n",
    "            if label not in classes:\n",
    "                classes[label] = 0\n",
    "            classes[label] += 1\n",
    "            \n",
    "        # Найдем класс, количество объектов которого будет максимальным в этом листе и вернем его    \n",
    "        prediction = max(classes, key=classes.get)\n",
    "        return prediction "
   ]
  },
  {
   "cell_type": "markdown",
   "id": "6ddfd2ec-3960-48b1-8422-544e0f73c9fb",
   "metadata": {},
   "source": [
    "__Узел__"
   ]
  },
  {
   "cell_type": "code",
   "execution_count": 41,
   "id": "f6832e4b-fd47-47ce-b70b-c884fb6113d5",
   "metadata": {},
   "outputs": [],
   "source": [
    "class Node:\n",
    "    \n",
    "    def __init__(self, index, t, true_branch, false_branch):\n",
    "        self.index = index  # Индекс признака, по которому ведется сравнение с порогом в этом узле\n",
    "        self.t = t  # Значение порога\n",
    "        self.true_branch = true_branch  # Поддерево, удовлетворяющее условию в узле\n",
    "        self.false_branch = false_branch  # Поддерево, не удовлетворяющее условию в узле"
   ]
  },
  {
   "cell_type": "markdown",
   "id": "dab1ef7b-2dfb-4fa6-94b4-c34592e45c07",
   "metadata": {},
   "source": [
    "__Критерий Джини__"
   ]
  },
  {
   "cell_type": "code",
   "execution_count": 42,
   "id": "62ab7323-7376-40c8-915a-1c23337fda9c",
   "metadata": {},
   "outputs": [],
   "source": [
    "def gini(labels):\n",
    "    \n",
    "    #  Подсчет количества объектов разных классов\n",
    "    classes = {}\n",
    "    for label in labels:\n",
    "        if label not in classes:\n",
    "            classes[label] = 0\n",
    "        classes[label] += 1\n",
    "    \n",
    "    #  Расчет критерия\n",
    "    impurity = 1\n",
    "    for label in classes:\n",
    "        p = classes[label] / len(labels)\n",
    "        impurity -= p ** 2\n",
    "        \n",
    "    return impurity"
   ]
  },
  {
   "cell_type": "markdown",
   "id": "11abccc5-3086-492f-b559-db22b89dba96",
   "metadata": {},
   "source": [
    "__Оценка прироста информации__"
   ]
  },
  {
   "cell_type": "code",
   "execution_count": 43,
   "id": "f149906c-c4a5-417e-9efa-525cf043a4b0",
   "metadata": {},
   "outputs": [],
   "source": [
    "def gain(left_labels, right_labels, root_gini):\n",
    "\n",
    "    # Доля выборки, ушедшая в левое поддерево\n",
    "    p = float(left_labels.shape[0]) / (left_labels.shape[0] + right_labels.shape[0])\n",
    "    return root_gini - p * gini(left_labels) - (1 - p) * gini(right_labels)"
   ]
  },
  {
   "cell_type": "markdown",
   "id": "a14f0d5b-82e1-4542-990d-8f1ad50f5fa1",
   "metadata": {},
   "source": [
    "__Разбиение датасета в узле__"
   ]
  },
  {
   "cell_type": "code",
   "execution_count": 44,
   "id": "7ed225d0-771e-4cbd-bea6-b68204aff63f",
   "metadata": {},
   "outputs": [],
   "source": [
    "def split(data, labels, column_index, t):\n",
    "    \n",
    "    left = np.where(data[:, column_index] <= t)\n",
    "    right = np.where(data[:, column_index] > t)\n",
    "        \n",
    "    true_data = data[left]\n",
    "    false_data = data[right]\n",
    "    \n",
    "    true_labels = labels[left]\n",
    "    false_labels = labels[right]\n",
    "        \n",
    "    return true_data, false_data, true_labels, false_labels"
   ]
  },
  {
   "cell_type": "markdown",
   "id": "4753be08-b978-4331-884a-8d7bf31fe005",
   "metadata": {},
   "source": [
    "__Нахождение наилучшнего разбиения данных__"
   ]
  },
  {
   "cell_type": "code",
   "execution_count": 45,
   "id": "c7a2fdc6-469b-4e63-b78d-85315e1e8cff",
   "metadata": {},
   "outputs": [],
   "source": [
    "def find_best_split(data, labels, min_samples_leaf = 5):\n",
    "    \n",
    "    best_gain = 0\n",
    "    best_t = None\n",
    "    best_index = None\n",
    "    root_gini = gini(labels)\n",
    "    \n",
    "    n_features = data.shape[1]\n",
    "    \n",
    "    for index in range(n_features):\n",
    "    \n",
    "        # Будем проверять только уникальные значения признака, исключая повторения\n",
    "        t_values = np.unique(data[:, index])\n",
    "        \n",
    "        for t in t_values:\n",
    "            true_data, false_data, true_labels, false_labels = split(data, labels, index, t)\n",
    "            \n",
    "            #  Пропускаем разбиения, в которых в узле остается менее 5 объектов\n",
    "            if len(true_data) < min_samples_leaf or len(false_data) < min_samples_leaf:\n",
    "                continue\n",
    "            \n",
    "            current_gain = gain(true_labels, false_labels, root_gini)\n",
    "            \n",
    "            #  Выбираем порог, на котором получается максимальный прирост качества\n",
    "            if current_gain > best_gain:\n",
    "                best_gain, best_t, best_index = current_gain, t, index\n",
    "\n",
    "    return best_gain, best_t, best_index"
   ]
  },
  {
   "cell_type": "markdown",
   "id": "15039855-7a25-44e1-8197-d2f25759c6be",
   "metadata": {},
   "source": [
    "__Строительство дерева решений__"
   ]
  },
  {
   "cell_type": "code",
   "execution_count": 46,
   "id": "d5b187a2-93d5-41e5-a31f-caa1511507d9",
   "metadata": {},
   "outputs": [],
   "source": [
    "def build_tree(data, labels, depth = 10, min_samples_leaf=5):\n",
    "\n",
    "    if depth <= 0:\n",
    "        return Leaf(data, labels)\n",
    "    \n",
    "    gain, t, index = find_best_split(data, labels, min_samples_leaf)\n",
    "\n",
    "    #  Базовый случай - прекращаем рекурсию, когда нет прироста в качества\n",
    "    if gain == 0:\n",
    "        return Leaf(data, labels)\n",
    "    \n",
    "    true_data, false_data, true_labels, false_labels = split(data, labels, index, t)\n",
    "    \n",
    "    # Рекурсивно строим два поддерева\n",
    "    true_branch = build_tree(true_data, true_labels, depth - 1, min_samples_leaf)\n",
    "    false_branch = build_tree(false_data, false_labels, depth - 1, min_samples_leaf)\n",
    "    \n",
    "    # Возвращаем класс узла со всеми поддеревьями, то есть целого дерева\n",
    "    return Node(index, t, true_branch, false_branch)"
   ]
  },
  {
   "cell_type": "markdown",
   "id": "1184ebf1-13f8-475e-8a5f-2a8ca706d760",
   "metadata": {},
   "source": [
    "__Предсказание по одному наблюдению__"
   ]
  },
  {
   "cell_type": "code",
   "execution_count": 47,
   "id": "d78ba214-b753-4711-885a-0a9d793c1903",
   "metadata": {},
   "outputs": [],
   "source": [
    "def predict_object(obj, node):\n",
    "\n",
    "    #  Останавливаем рекурсию, если достигли листа\n",
    "    if isinstance(node, Leaf):\n",
    "        answer = node.prediction\n",
    "        return answer\n",
    "\n",
    "    if obj[node.index] <= node.t:\n",
    "        return predict_object(obj, node.true_branch)\n",
    "    else:\n",
    "        return predict_object(obj, node.false_branch)"
   ]
  },
  {
   "cell_type": "markdown",
   "id": "60a0a9c5-e0f7-4452-9d29-a0fdfd5f5e6a",
   "metadata": {},
   "source": [
    "__Предсказание__"
   ]
  },
  {
   "cell_type": "code",
   "execution_count": 48,
   "id": "d46ddbba-7d63-4edc-a186-fce97e468d07",
   "metadata": {},
   "outputs": [],
   "source": [
    "def predict(data, tree):\n",
    "    \n",
    "    values = []\n",
    "    for obj in data:\n",
    "        prediction = predict_object(obj, tree)\n",
    "        values.append(prediction)\n",
    "    return np.array(values)"
   ]
  },
  {
   "cell_type": "markdown",
   "id": "db9df89c-2336-4f22-b0a6-a6e53d16a2c3",
   "metadata": {},
   "source": [
    "__Метрики качества__"
   ]
  },
  {
   "cell_type": "markdown",
   "id": "c2a9abee-3504-4f2b-999f-ef408b45ad5b",
   "metadata": {},
   "source": [
    "Матрика ошибок"
   ]
  },
  {
   "cell_type": "code",
   "execution_count": 49,
   "id": "86a0546e-1a57-42bb-a5e5-64b9c7dda185",
   "metadata": {},
   "outputs": [],
   "source": [
    "def error_matrix(y, y_pred):\n",
    "    tp = 0\n",
    "    fp = 0\n",
    "    fn = 0\n",
    "    tn = 0\n",
    "    for i in np.nditer(np.arange(y.shape[0])):\n",
    "        y_pred_ob = y_pred[i]\n",
    "        y_true_ob = y[i]\n",
    "        \n",
    "        if y_pred_ob == 1:\n",
    "            if y_pred_ob == y_true_ob:\n",
    "                tp += 1\n",
    "            else:\n",
    "                fp += 1\n",
    "        else:\n",
    "            if y_pred_ob == y_true_ob:\n",
    "                tn += 1\n",
    "            else:\n",
    "                fn += 1\n",
    "    return np.array([\n",
    "        [tp, fp],\n",
    "        [fn, tn]\n",
    "    ])"
   ]
  },
  {
   "cell_type": "markdown",
   "id": "2a3ea1fa-d9b7-4928-a8e6-aaaf09977b77",
   "metadata": {},
   "source": [
    "Точность"
   ]
  },
  {
   "cell_type": "code",
   "execution_count": 50,
   "id": "932c3bd1-7306-4990-8381-8483401ec708",
   "metadata": {},
   "outputs": [],
   "source": [
    "def precision(er):\n",
    "    tp = er[0, 0]\n",
    "    fp = er[0, 1]\n",
    "    return tp / (tp + fp)"
   ]
  },
  {
   "cell_type": "markdown",
   "id": "d6249e6d-8833-45d9-aca0-6da44f3b22ef",
   "metadata": {},
   "source": [
    "Полнота"
   ]
  },
  {
   "cell_type": "code",
   "execution_count": 51,
   "id": "8be8c970-5d6e-4689-abdf-54ac306d36dc",
   "metadata": {},
   "outputs": [],
   "source": [
    "def recall(er):\n",
    "    tp = er[0, 0]\n",
    "    fn = er[1, 0]\n",
    "    return tp / (tp + fn)"
   ]
  },
  {
   "cell_type": "markdown",
   "id": "f53858ee-c7c7-489c-8cb2-7b6e4169a937",
   "metadata": {},
   "source": [
    "F1-мера"
   ]
  },
  {
   "cell_type": "code",
   "execution_count": 52,
   "id": "f23af4df-252b-40f6-85a0-53d00bfc1f3c",
   "metadata": {},
   "outputs": [],
   "source": [
    "def f1_score(y, y_pred):\n",
    "    er = error_matrix(y, y_pred)\n",
    "    pr = precision(er)\n",
    "    rc = recall(er)\n",
    "    return (2 * pr * rc) / (pr + rc)"
   ]
  },
  {
   "cell_type": "markdown",
   "id": "c71bad2f-24e9-42e3-9c20-ad9f64e094ab",
   "metadata": {},
   "source": [
    "### Обучение"
   ]
  },
  {
   "cell_type": "markdown",
   "id": "1252fe76-456a-4138-b325-b353f27e40e0",
   "metadata": {},
   "source": [
    "__Выберу данные для обучения и для валидации__"
   ]
  },
  {
   "cell_type": "code",
   "execution_count": 135,
   "id": "f6846ec6-65e2-4d66-9c0a-308b5c32ecb5",
   "metadata": {},
   "outputs": [],
   "source": [
    "X_train, X_valid, y_train, y_valid = train_test_split(X.drop(\"Id\", axis=1), y, test_size=0.3,\n",
    "                                                      random_state=21)"
   ]
  },
  {
   "cell_type": "code",
   "execution_count": 136,
   "id": "37b33dc7-f9d2-4e2e-b255-b5aaf65db539",
   "metadata": {},
   "outputs": [
    {
     "data": {
      "text/plain": [
       "((7000, 11), (7000,))"
      ]
     },
     "execution_count": 136,
     "metadata": {},
     "output_type": "execute_result"
    }
   ],
   "source": [
    "X_train.shape, y_train.shape"
   ]
  },
  {
   "cell_type": "markdown",
   "id": "e553671a-b582-4a71-9f1f-12690b798ca9",
   "metadata": {},
   "source": [
    "__Обучу модель__"
   ]
  },
  {
   "cell_type": "code",
   "execution_count": 127,
   "id": "3b7eb8bc-2dcd-488c-9468-b783bdc1454c",
   "metadata": {},
   "outputs": [],
   "source": [
    "model = build_tree(X_train.to_numpy(), y_train.to_numpy(), depth=50, min_samples_leaf=33)"
   ]
  },
  {
   "cell_type": "markdown",
   "id": "4b7523f4-e0cf-4280-8b97-ecc62f4afc96",
   "metadata": {},
   "source": [
    "__Оценю качество__"
   ]
  },
  {
   "cell_type": "markdown",
   "id": "e9c36167-e9c4-44c1-bd13-ad4360ccd9e2",
   "metadata": {},
   "source": [
    "На тренировочной выборке"
   ]
  },
  {
   "cell_type": "code",
   "execution_count": 128,
   "id": "c3dfb085-e97d-46f2-a6dc-36f4d19da83f",
   "metadata": {},
   "outputs": [
    {
     "data": {
      "text/plain": [
       "0.2911877394636015"
      ]
     },
     "execution_count": 128,
     "metadata": {},
     "output_type": "execute_result"
    }
   ],
   "source": [
    "y_train_pred = predict(X_train.to_numpy(), model)\n",
    "f1_score(y_train.to_numpy(), y_train_pred)"
   ]
  },
  {
   "cell_type": "markdown",
   "id": "7dcd6ff2-8407-4cea-841c-aa5342e7d794",
   "metadata": {},
   "source": [
    "На валидационной выборке"
   ]
  },
  {
   "cell_type": "code",
   "execution_count": 129,
   "id": "26a4b06c-2793-4d2b-bcdb-dcf077236bfb",
   "metadata": {},
   "outputs": [
    {
     "data": {
      "text/plain": [
       "0.29464285714285715"
      ]
     },
     "execution_count": 129,
     "metadata": {},
     "output_type": "execute_result"
    }
   ],
   "source": [
    "y_valid_pred = predict(X_valid.to_numpy(), model)\n",
    "f1_score(y_valid.to_numpy(), y_valid_pred)"
   ]
  },
  {
   "cell_type": "markdown",
   "id": "edcf7416-7345-4e30-9551-48f96d971b4a",
   "metadata": {},
   "source": [
    "### Предсказание"
   ]
  },
  {
   "cell_type": "code",
   "execution_count": 130,
   "id": "7956f500-d6cc-4506-82fd-ede9c4e44450",
   "metadata": {},
   "outputs": [
    {
     "data": {
      "text/html": [
       "<div>\n",
       "<style scoped>\n",
       "    .dataframe tbody tr th:only-of-type {\n",
       "        vertical-align: middle;\n",
       "    }\n",
       "\n",
       "    .dataframe tbody tr th {\n",
       "        vertical-align: top;\n",
       "    }\n",
       "\n",
       "    .dataframe thead th {\n",
       "        text-align: right;\n",
       "    }\n",
       "</style>\n",
       "<table border=\"1\" class=\"dataframe\">\n",
       "  <thead>\n",
       "    <tr style=\"text-align: right;\">\n",
       "      <th></th>\n",
       "      <th>Id</th>\n",
       "      <th>age</th>\n",
       "      <th>years_of_experience</th>\n",
       "      <th>lesson_price</th>\n",
       "      <th>qualification</th>\n",
       "      <th>physics</th>\n",
       "      <th>chemistry</th>\n",
       "      <th>biology</th>\n",
       "      <th>english</th>\n",
       "      <th>geography</th>\n",
       "      <th>history</th>\n",
       "      <th>mean_exam_points</th>\n",
       "    </tr>\n",
       "  </thead>\n",
       "  <tbody>\n",
       "    <tr>\n",
       "      <th>0</th>\n",
       "      <td>10000</td>\n",
       "      <td>32.0</td>\n",
       "      <td>2.0</td>\n",
       "      <td>2700.0</td>\n",
       "      <td>3.0</td>\n",
       "      <td>0.0</td>\n",
       "      <td>0.0</td>\n",
       "      <td>0.0</td>\n",
       "      <td>0.0</td>\n",
       "      <td>0.0</td>\n",
       "      <td>0.0</td>\n",
       "      <td>90.0</td>\n",
       "    </tr>\n",
       "    <tr>\n",
       "      <th>1</th>\n",
       "      <td>10001</td>\n",
       "      <td>35.0</td>\n",
       "      <td>6.0</td>\n",
       "      <td>1800.0</td>\n",
       "      <td>2.0</td>\n",
       "      <td>1.0</td>\n",
       "      <td>1.0</td>\n",
       "      <td>0.0</td>\n",
       "      <td>0.0</td>\n",
       "      <td>0.0</td>\n",
       "      <td>0.0</td>\n",
       "      <td>71.0</td>\n",
       "    </tr>\n",
       "    <tr>\n",
       "      <th>2</th>\n",
       "      <td>10002</td>\n",
       "      <td>44.0</td>\n",
       "      <td>2.0</td>\n",
       "      <td>1200.0</td>\n",
       "      <td>1.0</td>\n",
       "      <td>0.0</td>\n",
       "      <td>0.0</td>\n",
       "      <td>0.0</td>\n",
       "      <td>0.0</td>\n",
       "      <td>0.0</td>\n",
       "      <td>0.0</td>\n",
       "      <td>45.0</td>\n",
       "    </tr>\n",
       "    <tr>\n",
       "      <th>3</th>\n",
       "      <td>10003</td>\n",
       "      <td>44.0</td>\n",
       "      <td>4.0</td>\n",
       "      <td>2950.0</td>\n",
       "      <td>3.0</td>\n",
       "      <td>1.0</td>\n",
       "      <td>0.0</td>\n",
       "      <td>0.0</td>\n",
       "      <td>0.0</td>\n",
       "      <td>0.0</td>\n",
       "      <td>0.0</td>\n",
       "      <td>92.0</td>\n",
       "    </tr>\n",
       "    <tr>\n",
       "      <th>4</th>\n",
       "      <td>10004</td>\n",
       "      <td>38.0</td>\n",
       "      <td>3.0</td>\n",
       "      <td>1400.0</td>\n",
       "      <td>2.0</td>\n",
       "      <td>1.0</td>\n",
       "      <td>0.0</td>\n",
       "      <td>0.0</td>\n",
       "      <td>0.0</td>\n",
       "      <td>0.0</td>\n",
       "      <td>0.0</td>\n",
       "      <td>58.0</td>\n",
       "    </tr>\n",
       "    <tr>\n",
       "      <th>...</th>\n",
       "      <td>...</td>\n",
       "      <td>...</td>\n",
       "      <td>...</td>\n",
       "      <td>...</td>\n",
       "      <td>...</td>\n",
       "      <td>...</td>\n",
       "      <td>...</td>\n",
       "      <td>...</td>\n",
       "      <td>...</td>\n",
       "      <td>...</td>\n",
       "      <td>...</td>\n",
       "      <td>...</td>\n",
       "    </tr>\n",
       "    <tr>\n",
       "      <th>9995</th>\n",
       "      <td>19995</td>\n",
       "      <td>44.0</td>\n",
       "      <td>3.0</td>\n",
       "      <td>1850.0</td>\n",
       "      <td>2.0</td>\n",
       "      <td>1.0</td>\n",
       "      <td>1.0</td>\n",
       "      <td>0.0</td>\n",
       "      <td>0.0</td>\n",
       "      <td>0.0</td>\n",
       "      <td>0.0</td>\n",
       "      <td>68.0</td>\n",
       "    </tr>\n",
       "    <tr>\n",
       "      <th>9996</th>\n",
       "      <td>19996</td>\n",
       "      <td>45.0</td>\n",
       "      <td>3.0</td>\n",
       "      <td>2450.0</td>\n",
       "      <td>2.0</td>\n",
       "      <td>1.0</td>\n",
       "      <td>1.0</td>\n",
       "      <td>0.0</td>\n",
       "      <td>1.0</td>\n",
       "      <td>0.0</td>\n",
       "      <td>0.0</td>\n",
       "      <td>72.0</td>\n",
       "    </tr>\n",
       "    <tr>\n",
       "      <th>9997</th>\n",
       "      <td>19997</td>\n",
       "      <td>44.0</td>\n",
       "      <td>2.0</td>\n",
       "      <td>1250.0</td>\n",
       "      <td>1.0</td>\n",
       "      <td>1.0</td>\n",
       "      <td>1.0</td>\n",
       "      <td>0.0</td>\n",
       "      <td>0.0</td>\n",
       "      <td>0.0</td>\n",
       "      <td>0.0</td>\n",
       "      <td>63.0</td>\n",
       "    </tr>\n",
       "    <tr>\n",
       "      <th>9998</th>\n",
       "      <td>19998</td>\n",
       "      <td>51.0</td>\n",
       "      <td>5.0</td>\n",
       "      <td>1000.0</td>\n",
       "      <td>2.0</td>\n",
       "      <td>1.0</td>\n",
       "      <td>0.0</td>\n",
       "      <td>1.0</td>\n",
       "      <td>0.0</td>\n",
       "      <td>0.0</td>\n",
       "      <td>0.0</td>\n",
       "      <td>64.0</td>\n",
       "    </tr>\n",
       "    <tr>\n",
       "      <th>9999</th>\n",
       "      <td>19999</td>\n",
       "      <td>43.0</td>\n",
       "      <td>0.0</td>\n",
       "      <td>1500.0</td>\n",
       "      <td>1.0</td>\n",
       "      <td>1.0</td>\n",
       "      <td>1.0</td>\n",
       "      <td>1.0</td>\n",
       "      <td>0.0</td>\n",
       "      <td>0.0</td>\n",
       "      <td>0.0</td>\n",
       "      <td>41.0</td>\n",
       "    </tr>\n",
       "  </tbody>\n",
       "</table>\n",
       "<p>10000 rows × 12 columns</p>\n",
       "</div>"
      ],
      "text/plain": [
       "         Id   age  years_of_experience  lesson_price  qualification  physics  \\\n",
       "0     10000  32.0                  2.0        2700.0            3.0      0.0   \n",
       "1     10001  35.0                  6.0        1800.0            2.0      1.0   \n",
       "2     10002  44.0                  2.0        1200.0            1.0      0.0   \n",
       "3     10003  44.0                  4.0        2950.0            3.0      1.0   \n",
       "4     10004  38.0                  3.0        1400.0            2.0      1.0   \n",
       "...     ...   ...                  ...           ...            ...      ...   \n",
       "9995  19995  44.0                  3.0        1850.0            2.0      1.0   \n",
       "9996  19996  45.0                  3.0        2450.0            2.0      1.0   \n",
       "9997  19997  44.0                  2.0        1250.0            1.0      1.0   \n",
       "9998  19998  51.0                  5.0        1000.0            2.0      1.0   \n",
       "9999  19999  43.0                  0.0        1500.0            1.0      1.0   \n",
       "\n",
       "      chemistry  biology  english  geography  history  mean_exam_points  \n",
       "0           0.0      0.0      0.0        0.0      0.0              90.0  \n",
       "1           1.0      0.0      0.0        0.0      0.0              71.0  \n",
       "2           0.0      0.0      0.0        0.0      0.0              45.0  \n",
       "3           0.0      0.0      0.0        0.0      0.0              92.0  \n",
       "4           0.0      0.0      0.0        0.0      0.0              58.0  \n",
       "...         ...      ...      ...        ...      ...               ...  \n",
       "9995        1.0      0.0      0.0        0.0      0.0              68.0  \n",
       "9996        1.0      0.0      1.0        0.0      0.0              72.0  \n",
       "9997        1.0      0.0      0.0        0.0      0.0              63.0  \n",
       "9998        0.0      1.0      0.0        0.0      0.0              64.0  \n",
       "9999        1.0      1.0      0.0        0.0      0.0              41.0  \n",
       "\n",
       "[10000 rows x 12 columns]"
      ]
     },
     "execution_count": 130,
     "metadata": {},
     "output_type": "execute_result"
    }
   ],
   "source": [
    "test"
   ]
  },
  {
   "cell_type": "code",
   "execution_count": 138,
   "id": "2764eb0f-5937-4e5a-a58e-3062ec7d2594",
   "metadata": {},
   "outputs": [],
   "source": [
    "test_pred = predict(test.drop('Id', axis=1).to_numpy(), model)"
   ]
  },
  {
   "cell_type": "code",
   "execution_count": 139,
   "id": "2f3c0886-200a-44d4-bc0b-8ec32962aaa2",
   "metadata": {},
   "outputs": [
    {
     "data": {
      "text/html": [
       "<div>\n",
       "<style scoped>\n",
       "    .dataframe tbody tr th:only-of-type {\n",
       "        vertical-align: middle;\n",
       "    }\n",
       "\n",
       "    .dataframe tbody tr th {\n",
       "        vertical-align: top;\n",
       "    }\n",
       "\n",
       "    .dataframe thead th {\n",
       "        text-align: right;\n",
       "    }\n",
       "</style>\n",
       "<table border=\"1\" class=\"dataframe\">\n",
       "  <thead>\n",
       "    <tr style=\"text-align: right;\">\n",
       "      <th></th>\n",
       "      <th>Id</th>\n",
       "      <th>choose</th>\n",
       "    </tr>\n",
       "  </thead>\n",
       "  <tbody>\n",
       "    <tr>\n",
       "      <th>0</th>\n",
       "      <td>10000</td>\n",
       "      <td>0</td>\n",
       "    </tr>\n",
       "    <tr>\n",
       "      <th>1</th>\n",
       "      <td>10001</td>\n",
       "      <td>0</td>\n",
       "    </tr>\n",
       "    <tr>\n",
       "      <th>2</th>\n",
       "      <td>10002</td>\n",
       "      <td>0</td>\n",
       "    </tr>\n",
       "    <tr>\n",
       "      <th>3</th>\n",
       "      <td>10003</td>\n",
       "      <td>0</td>\n",
       "    </tr>\n",
       "    <tr>\n",
       "      <th>4</th>\n",
       "      <td>10004</td>\n",
       "      <td>0</td>\n",
       "    </tr>\n",
       "    <tr>\n",
       "      <th>...</th>\n",
       "      <td>...</td>\n",
       "      <td>...</td>\n",
       "    </tr>\n",
       "    <tr>\n",
       "      <th>9995</th>\n",
       "      <td>19995</td>\n",
       "      <td>0</td>\n",
       "    </tr>\n",
       "    <tr>\n",
       "      <th>9996</th>\n",
       "      <td>19996</td>\n",
       "      <td>0</td>\n",
       "    </tr>\n",
       "    <tr>\n",
       "      <th>9997</th>\n",
       "      <td>19997</td>\n",
       "      <td>0</td>\n",
       "    </tr>\n",
       "    <tr>\n",
       "      <th>9998</th>\n",
       "      <td>19998</td>\n",
       "      <td>1</td>\n",
       "    </tr>\n",
       "    <tr>\n",
       "      <th>9999</th>\n",
       "      <td>19999</td>\n",
       "      <td>0</td>\n",
       "    </tr>\n",
       "  </tbody>\n",
       "</table>\n",
       "<p>10000 rows × 2 columns</p>\n",
       "</div>"
      ],
      "text/plain": [
       "         Id  choose\n",
       "0     10000       0\n",
       "1     10001       0\n",
       "2     10002       0\n",
       "3     10003       0\n",
       "4     10004       0\n",
       "...     ...     ...\n",
       "9995  19995       0\n",
       "9996  19996       0\n",
       "9997  19997       0\n",
       "9998  19998       1\n",
       "9999  19999       0\n",
       "\n",
       "[10000 rows x 2 columns]"
      ]
     },
     "execution_count": 139,
     "metadata": {},
     "output_type": "execute_result"
    }
   ],
   "source": [
    "submission = pd.DataFrame({'Id': test['Id'], 'choose': test_pred})\n",
    "submission"
   ]
  },
  {
   "cell_type": "code",
   "execution_count": 141,
   "id": "8080ece9-ad60-4ae3-ae0a-b26010eb1d30",
   "metadata": {},
   "outputs": [],
   "source": [
    "submission.to_csv('submission.csv', index=False)"
   ]
  },
  {
   "cell_type": "markdown",
   "id": "c9046575-2dab-46bc-bd69-704b9ca3be25",
   "metadata": {},
   "source": [
    "Конец!"
   ]
  }
 ],
 "metadata": {
  "kernelspec": {
   "display_name": "Python 3 (ipykernel)",
   "language": "python",
   "name": "python3"
  },
  "language_info": {
   "codemirror_mode": {
    "name": "ipython",
    "version": 3
   },
   "file_extension": ".py",
   "mimetype": "text/x-python",
   "name": "python",
   "nbconvert_exporter": "python",
   "pygments_lexer": "ipython3",
   "version": "3.9.7"
  }
 },
 "nbformat": 4,
 "nbformat_minor": 5
}
