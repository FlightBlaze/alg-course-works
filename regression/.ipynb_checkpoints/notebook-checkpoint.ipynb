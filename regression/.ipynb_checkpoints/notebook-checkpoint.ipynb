{
 "cells": [
  {
   "cell_type": "markdown",
   "id": "342b41ab-0979-4917-a4b9-3cb037db4d93",
   "metadata": {},
   "source": [
    "### Приступая к работе"
   ]
  },
  {
   "cell_type": "markdown",
   "id": "76329fb4-3a87-4c6a-b787-a8698a8258b7",
   "metadata": {},
   "source": [
    "__Импортирую библиотеки__"
   ]
  },
  {
   "cell_type": "code",
   "execution_count": 3,
   "id": "c998a204-6ab4-4a12-a5cb-5539400b9d8d",
   "metadata": {},
   "outputs": [],
   "source": [
    "import numpy as np\n",
    "import pandas as pd\n",
    "from sklearn.model_selection import train_test_split\n",
    "import matplotlib.pyplot as plt\n",
    "import seaborn as sns"
   ]
  },
  {
   "cell_type": "markdown",
   "id": "09997b08-b91f-47cf-8db3-64b8a6618417",
   "metadata": {},
   "source": [
    "__Открою датасет__"
   ]
  },
  {
   "cell_type": "code",
   "execution_count": 267,
   "id": "0f54dd1d-1dea-40e5-8197-91600296d9e5",
   "metadata": {},
   "outputs": [],
   "source": [
    "train = pd.read_csv('data/train.csv')\n",
    "test = pd.read_csv('data/test.csv')"
   ]
  },
  {
   "cell_type": "code",
   "execution_count": 11,
   "id": "1f193c96-7fc8-4935-ae77-4064b99cae75",
   "metadata": {},
   "outputs": [
    {
     "data": {
      "text/html": [
       "<div>\n",
       "<style scoped>\n",
       "    .dataframe tbody tr th:only-of-type {\n",
       "        vertical-align: middle;\n",
       "    }\n",
       "\n",
       "    .dataframe tbody tr th {\n",
       "        vertical-align: top;\n",
       "    }\n",
       "\n",
       "    .dataframe thead th {\n",
       "        text-align: right;\n",
       "    }\n",
       "</style>\n",
       "<table border=\"1\" class=\"dataframe\">\n",
       "  <thead>\n",
       "    <tr style=\"text-align: right;\">\n",
       "      <th></th>\n",
       "      <th>Id</th>\n",
       "      <th>age</th>\n",
       "      <th>years_of_experience</th>\n",
       "      <th>lesson_price</th>\n",
       "      <th>qualification</th>\n",
       "      <th>physics</th>\n",
       "      <th>chemistry</th>\n",
       "      <th>biology</th>\n",
       "      <th>english</th>\n",
       "      <th>geography</th>\n",
       "      <th>history</th>\n",
       "      <th>mean_exam_points</th>\n",
       "    </tr>\n",
       "  </thead>\n",
       "  <tbody>\n",
       "    <tr>\n",
       "      <th>0</th>\n",
       "      <td>0</td>\n",
       "      <td>40.0</td>\n",
       "      <td>0.0</td>\n",
       "      <td>1400.0</td>\n",
       "      <td>1.0</td>\n",
       "      <td>1.0</td>\n",
       "      <td>0.0</td>\n",
       "      <td>0.0</td>\n",
       "      <td>0.0</td>\n",
       "      <td>1.0</td>\n",
       "      <td>0.0</td>\n",
       "      <td>61</td>\n",
       "    </tr>\n",
       "    <tr>\n",
       "      <th>1</th>\n",
       "      <td>1</td>\n",
       "      <td>48.0</td>\n",
       "      <td>4.0</td>\n",
       "      <td>2850.0</td>\n",
       "      <td>3.0</td>\n",
       "      <td>1.0</td>\n",
       "      <td>0.0</td>\n",
       "      <td>0.0</td>\n",
       "      <td>0.0</td>\n",
       "      <td>0.0</td>\n",
       "      <td>0.0</td>\n",
       "      <td>76</td>\n",
       "    </tr>\n",
       "    <tr>\n",
       "      <th>2</th>\n",
       "      <td>2</td>\n",
       "      <td>39.0</td>\n",
       "      <td>0.0</td>\n",
       "      <td>1200.0</td>\n",
       "      <td>1.0</td>\n",
       "      <td>0.0</td>\n",
       "      <td>0.0</td>\n",
       "      <td>0.0</td>\n",
       "      <td>0.0</td>\n",
       "      <td>0.0</td>\n",
       "      <td>0.0</td>\n",
       "      <td>53</td>\n",
       "    </tr>\n",
       "    <tr>\n",
       "      <th>3</th>\n",
       "      <td>3</td>\n",
       "      <td>46.0</td>\n",
       "      <td>5.0</td>\n",
       "      <td>1400.0</td>\n",
       "      <td>1.0</td>\n",
       "      <td>0.0</td>\n",
       "      <td>0.0</td>\n",
       "      <td>0.0</td>\n",
       "      <td>0.0</td>\n",
       "      <td>0.0</td>\n",
       "      <td>0.0</td>\n",
       "      <td>54</td>\n",
       "    </tr>\n",
       "    <tr>\n",
       "      <th>4</th>\n",
       "      <td>4</td>\n",
       "      <td>43.0</td>\n",
       "      <td>1.0</td>\n",
       "      <td>1500.0</td>\n",
       "      <td>1.0</td>\n",
       "      <td>0.0</td>\n",
       "      <td>0.0</td>\n",
       "      <td>0.0</td>\n",
       "      <td>0.0</td>\n",
       "      <td>0.0</td>\n",
       "      <td>0.0</td>\n",
       "      <td>57</td>\n",
       "    </tr>\n",
       "    <tr>\n",
       "      <th>...</th>\n",
       "      <td>...</td>\n",
       "      <td>...</td>\n",
       "      <td>...</td>\n",
       "      <td>...</td>\n",
       "      <td>...</td>\n",
       "      <td>...</td>\n",
       "      <td>...</td>\n",
       "      <td>...</td>\n",
       "      <td>...</td>\n",
       "      <td>...</td>\n",
       "      <td>...</td>\n",
       "      <td>...</td>\n",
       "    </tr>\n",
       "    <tr>\n",
       "      <th>9995</th>\n",
       "      <td>9995</td>\n",
       "      <td>44.0</td>\n",
       "      <td>0.0</td>\n",
       "      <td>1700.0</td>\n",
       "      <td>2.0</td>\n",
       "      <td>1.0</td>\n",
       "      <td>1.0</td>\n",
       "      <td>0.0</td>\n",
       "      <td>0.0</td>\n",
       "      <td>0.0</td>\n",
       "      <td>0.0</td>\n",
       "      <td>83</td>\n",
       "    </tr>\n",
       "    <tr>\n",
       "      <th>9996</th>\n",
       "      <td>9996</td>\n",
       "      <td>51.0</td>\n",
       "      <td>0.0</td>\n",
       "      <td>1700.0</td>\n",
       "      <td>2.0</td>\n",
       "      <td>0.0</td>\n",
       "      <td>0.0</td>\n",
       "      <td>0.0</td>\n",
       "      <td>0.0</td>\n",
       "      <td>0.0</td>\n",
       "      <td>0.0</td>\n",
       "      <td>58</td>\n",
       "    </tr>\n",
       "    <tr>\n",
       "      <th>9997</th>\n",
       "      <td>9997</td>\n",
       "      <td>34.0</td>\n",
       "      <td>1.0</td>\n",
       "      <td>1250.0</td>\n",
       "      <td>1.0</td>\n",
       "      <td>1.0</td>\n",
       "      <td>0.0</td>\n",
       "      <td>0.0</td>\n",
       "      <td>0.0</td>\n",
       "      <td>0.0</td>\n",
       "      <td>0.0</td>\n",
       "      <td>62</td>\n",
       "    </tr>\n",
       "    <tr>\n",
       "      <th>9998</th>\n",
       "      <td>9998</td>\n",
       "      <td>33.0</td>\n",
       "      <td>3.0</td>\n",
       "      <td>1100.0</td>\n",
       "      <td>1.0</td>\n",
       "      <td>0.0</td>\n",
       "      <td>0.0</td>\n",
       "      <td>0.0</td>\n",
       "      <td>0.0</td>\n",
       "      <td>0.0</td>\n",
       "      <td>0.0</td>\n",
       "      <td>56</td>\n",
       "    </tr>\n",
       "    <tr>\n",
       "      <th>9999</th>\n",
       "      <td>9999</td>\n",
       "      <td>35.0</td>\n",
       "      <td>0.0</td>\n",
       "      <td>1450.0</td>\n",
       "      <td>1.0</td>\n",
       "      <td>0.0</td>\n",
       "      <td>0.0</td>\n",
       "      <td>0.0</td>\n",
       "      <td>0.0</td>\n",
       "      <td>0.0</td>\n",
       "      <td>0.0</td>\n",
       "      <td>52</td>\n",
       "    </tr>\n",
       "  </tbody>\n",
       "</table>\n",
       "<p>10000 rows × 12 columns</p>\n",
       "</div>"
      ],
      "text/plain": [
       "        Id   age  years_of_experience  lesson_price  qualification  physics  \\\n",
       "0        0  40.0                  0.0        1400.0            1.0      1.0   \n",
       "1        1  48.0                  4.0        2850.0            3.0      1.0   \n",
       "2        2  39.0                  0.0        1200.0            1.0      0.0   \n",
       "3        3  46.0                  5.0        1400.0            1.0      0.0   \n",
       "4        4  43.0                  1.0        1500.0            1.0      0.0   \n",
       "...    ...   ...                  ...           ...            ...      ...   \n",
       "9995  9995  44.0                  0.0        1700.0            2.0      1.0   \n",
       "9996  9996  51.0                  0.0        1700.0            2.0      0.0   \n",
       "9997  9997  34.0                  1.0        1250.0            1.0      1.0   \n",
       "9998  9998  33.0                  3.0        1100.0            1.0      0.0   \n",
       "9999  9999  35.0                  0.0        1450.0            1.0      0.0   \n",
       "\n",
       "      chemistry  biology  english  geography  history  mean_exam_points  \n",
       "0           0.0      0.0      0.0        1.0      0.0                61  \n",
       "1           0.0      0.0      0.0        0.0      0.0                76  \n",
       "2           0.0      0.0      0.0        0.0      0.0                53  \n",
       "3           0.0      0.0      0.0        0.0      0.0                54  \n",
       "4           0.0      0.0      0.0        0.0      0.0                57  \n",
       "...         ...      ...      ...        ...      ...               ...  \n",
       "9995        1.0      0.0      0.0        0.0      0.0                83  \n",
       "9996        0.0      0.0      0.0        0.0      0.0                58  \n",
       "9997        0.0      0.0      0.0        0.0      0.0                62  \n",
       "9998        0.0      0.0      0.0        0.0      0.0                56  \n",
       "9999        0.0      0.0      0.0        0.0      0.0                52  \n",
       "\n",
       "[10000 rows x 12 columns]"
      ]
     },
     "execution_count": 11,
     "metadata": {},
     "output_type": "execute_result"
    }
   ],
   "source": [
    "train"
   ]
  },
  {
   "cell_type": "code",
   "execution_count": 76,
   "id": "af18e5a2-f589-49db-97ef-0bfafb784a68",
   "metadata": {},
   "outputs": [
    {
     "name": "stdout",
     "output_type": "stream",
     "text": [
      "<class 'pandas.core.frame.DataFrame'>\n",
      "RangeIndex: 10000 entries, 0 to 9999\n",
      "Data columns (total 12 columns):\n",
      " #   Column               Non-Null Count  Dtype  \n",
      "---  ------               --------------  -----  \n",
      " 0   Id                   10000 non-null  int64  \n",
      " 1   age                  10000 non-null  float64\n",
      " 2   years_of_experience  10000 non-null  float64\n",
      " 3   lesson_price         10000 non-null  float64\n",
      " 4   qualification        10000 non-null  float64\n",
      " 5   physics              10000 non-null  float64\n",
      " 6   chemistry            10000 non-null  float64\n",
      " 7   biology              10000 non-null  float64\n",
      " 8   english              10000 non-null  float64\n",
      " 9   geography            10000 non-null  float64\n",
      " 10  history              10000 non-null  float64\n",
      " 11  mean_exam_points     10000 non-null  int64  \n",
      "dtypes: float64(10), int64(2)\n",
      "memory usage: 937.6 KB\n"
     ]
    }
   ],
   "source": [
    "train.info()"
   ]
  },
  {
   "cell_type": "markdown",
   "id": "cce449ce-ef33-491c-9b36-1d36aa706962",
   "metadata": {},
   "source": [
    "__Разделю данные на признаки и целевую переменную__"
   ]
  },
  {
   "cell_type": "code",
   "execution_count": 14,
   "id": "c6b4c877-35d5-47fa-ab7e-9238e0543aec",
   "metadata": {},
   "outputs": [
    {
     "data": {
      "text/html": [
       "<div>\n",
       "<style scoped>\n",
       "    .dataframe tbody tr th:only-of-type {\n",
       "        vertical-align: middle;\n",
       "    }\n",
       "\n",
       "    .dataframe tbody tr th {\n",
       "        vertical-align: top;\n",
       "    }\n",
       "\n",
       "    .dataframe thead th {\n",
       "        text-align: right;\n",
       "    }\n",
       "</style>\n",
       "<table border=\"1\" class=\"dataframe\">\n",
       "  <thead>\n",
       "    <tr style=\"text-align: right;\">\n",
       "      <th></th>\n",
       "      <th>Id</th>\n",
       "      <th>age</th>\n",
       "      <th>years_of_experience</th>\n",
       "      <th>lesson_price</th>\n",
       "      <th>qualification</th>\n",
       "      <th>physics</th>\n",
       "      <th>chemistry</th>\n",
       "      <th>biology</th>\n",
       "      <th>english</th>\n",
       "      <th>geography</th>\n",
       "      <th>history</th>\n",
       "    </tr>\n",
       "  </thead>\n",
       "  <tbody>\n",
       "    <tr>\n",
       "      <th>0</th>\n",
       "      <td>0</td>\n",
       "      <td>40.0</td>\n",
       "      <td>0.0</td>\n",
       "      <td>1400.0</td>\n",
       "      <td>1.0</td>\n",
       "      <td>1.0</td>\n",
       "      <td>0.0</td>\n",
       "      <td>0.0</td>\n",
       "      <td>0.0</td>\n",
       "      <td>1.0</td>\n",
       "      <td>0.0</td>\n",
       "    </tr>\n",
       "    <tr>\n",
       "      <th>1</th>\n",
       "      <td>1</td>\n",
       "      <td>48.0</td>\n",
       "      <td>4.0</td>\n",
       "      <td>2850.0</td>\n",
       "      <td>3.0</td>\n",
       "      <td>1.0</td>\n",
       "      <td>0.0</td>\n",
       "      <td>0.0</td>\n",
       "      <td>0.0</td>\n",
       "      <td>0.0</td>\n",
       "      <td>0.0</td>\n",
       "    </tr>\n",
       "    <tr>\n",
       "      <th>2</th>\n",
       "      <td>2</td>\n",
       "      <td>39.0</td>\n",
       "      <td>0.0</td>\n",
       "      <td>1200.0</td>\n",
       "      <td>1.0</td>\n",
       "      <td>0.0</td>\n",
       "      <td>0.0</td>\n",
       "      <td>0.0</td>\n",
       "      <td>0.0</td>\n",
       "      <td>0.0</td>\n",
       "      <td>0.0</td>\n",
       "    </tr>\n",
       "    <tr>\n",
       "      <th>3</th>\n",
       "      <td>3</td>\n",
       "      <td>46.0</td>\n",
       "      <td>5.0</td>\n",
       "      <td>1400.0</td>\n",
       "      <td>1.0</td>\n",
       "      <td>0.0</td>\n",
       "      <td>0.0</td>\n",
       "      <td>0.0</td>\n",
       "      <td>0.0</td>\n",
       "      <td>0.0</td>\n",
       "      <td>0.0</td>\n",
       "    </tr>\n",
       "    <tr>\n",
       "      <th>4</th>\n",
       "      <td>4</td>\n",
       "      <td>43.0</td>\n",
       "      <td>1.0</td>\n",
       "      <td>1500.0</td>\n",
       "      <td>1.0</td>\n",
       "      <td>0.0</td>\n",
       "      <td>0.0</td>\n",
       "      <td>0.0</td>\n",
       "      <td>0.0</td>\n",
       "      <td>0.0</td>\n",
       "      <td>0.0</td>\n",
       "    </tr>\n",
       "    <tr>\n",
       "      <th>...</th>\n",
       "      <td>...</td>\n",
       "      <td>...</td>\n",
       "      <td>...</td>\n",
       "      <td>...</td>\n",
       "      <td>...</td>\n",
       "      <td>...</td>\n",
       "      <td>...</td>\n",
       "      <td>...</td>\n",
       "      <td>...</td>\n",
       "      <td>...</td>\n",
       "      <td>...</td>\n",
       "    </tr>\n",
       "    <tr>\n",
       "      <th>9995</th>\n",
       "      <td>9995</td>\n",
       "      <td>44.0</td>\n",
       "      <td>0.0</td>\n",
       "      <td>1700.0</td>\n",
       "      <td>2.0</td>\n",
       "      <td>1.0</td>\n",
       "      <td>1.0</td>\n",
       "      <td>0.0</td>\n",
       "      <td>0.0</td>\n",
       "      <td>0.0</td>\n",
       "      <td>0.0</td>\n",
       "    </tr>\n",
       "    <tr>\n",
       "      <th>9996</th>\n",
       "      <td>9996</td>\n",
       "      <td>51.0</td>\n",
       "      <td>0.0</td>\n",
       "      <td>1700.0</td>\n",
       "      <td>2.0</td>\n",
       "      <td>0.0</td>\n",
       "      <td>0.0</td>\n",
       "      <td>0.0</td>\n",
       "      <td>0.0</td>\n",
       "      <td>0.0</td>\n",
       "      <td>0.0</td>\n",
       "    </tr>\n",
       "    <tr>\n",
       "      <th>9997</th>\n",
       "      <td>9997</td>\n",
       "      <td>34.0</td>\n",
       "      <td>1.0</td>\n",
       "      <td>1250.0</td>\n",
       "      <td>1.0</td>\n",
       "      <td>1.0</td>\n",
       "      <td>0.0</td>\n",
       "      <td>0.0</td>\n",
       "      <td>0.0</td>\n",
       "      <td>0.0</td>\n",
       "      <td>0.0</td>\n",
       "    </tr>\n",
       "    <tr>\n",
       "      <th>9998</th>\n",
       "      <td>9998</td>\n",
       "      <td>33.0</td>\n",
       "      <td>3.0</td>\n",
       "      <td>1100.0</td>\n",
       "      <td>1.0</td>\n",
       "      <td>0.0</td>\n",
       "      <td>0.0</td>\n",
       "      <td>0.0</td>\n",
       "      <td>0.0</td>\n",
       "      <td>0.0</td>\n",
       "      <td>0.0</td>\n",
       "    </tr>\n",
       "    <tr>\n",
       "      <th>9999</th>\n",
       "      <td>9999</td>\n",
       "      <td>35.0</td>\n",
       "      <td>0.0</td>\n",
       "      <td>1450.0</td>\n",
       "      <td>1.0</td>\n",
       "      <td>0.0</td>\n",
       "      <td>0.0</td>\n",
       "      <td>0.0</td>\n",
       "      <td>0.0</td>\n",
       "      <td>0.0</td>\n",
       "      <td>0.0</td>\n",
       "    </tr>\n",
       "  </tbody>\n",
       "</table>\n",
       "<p>10000 rows × 11 columns</p>\n",
       "</div>"
      ],
      "text/plain": [
       "        Id   age  years_of_experience  lesson_price  qualification  physics  \\\n",
       "0        0  40.0                  0.0        1400.0            1.0      1.0   \n",
       "1        1  48.0                  4.0        2850.0            3.0      1.0   \n",
       "2        2  39.0                  0.0        1200.0            1.0      0.0   \n",
       "3        3  46.0                  5.0        1400.0            1.0      0.0   \n",
       "4        4  43.0                  1.0        1500.0            1.0      0.0   \n",
       "...    ...   ...                  ...           ...            ...      ...   \n",
       "9995  9995  44.0                  0.0        1700.0            2.0      1.0   \n",
       "9996  9996  51.0                  0.0        1700.0            2.0      0.0   \n",
       "9997  9997  34.0                  1.0        1250.0            1.0      1.0   \n",
       "9998  9998  33.0                  3.0        1100.0            1.0      0.0   \n",
       "9999  9999  35.0                  0.0        1450.0            1.0      0.0   \n",
       "\n",
       "      chemistry  biology  english  geography  history  \n",
       "0           0.0      0.0      0.0        1.0      0.0  \n",
       "1           0.0      0.0      0.0        0.0      0.0  \n",
       "2           0.0      0.0      0.0        0.0      0.0  \n",
       "3           0.0      0.0      0.0        0.0      0.0  \n",
       "4           0.0      0.0      0.0        0.0      0.0  \n",
       "...         ...      ...      ...        ...      ...  \n",
       "9995        1.0      0.0      0.0        0.0      0.0  \n",
       "9996        0.0      0.0      0.0        0.0      0.0  \n",
       "9997        0.0      0.0      0.0        0.0      0.0  \n",
       "9998        0.0      0.0      0.0        0.0      0.0  \n",
       "9999        0.0      0.0      0.0        0.0      0.0  \n",
       "\n",
       "[10000 rows x 11 columns]"
      ]
     },
     "execution_count": 14,
     "metadata": {},
     "output_type": "execute_result"
    }
   ],
   "source": [
    "X = train.drop(\"mean_exam_points\", axis=1)\n",
    "X"
   ]
  },
  {
   "cell_type": "code",
   "execution_count": 15,
   "id": "3f600dbb-198f-4edf-9896-aff0d96bc394",
   "metadata": {},
   "outputs": [
    {
     "data": {
      "text/plain": [
       "0       61\n",
       "1       76\n",
       "2       53\n",
       "3       54\n",
       "4       57\n",
       "        ..\n",
       "9995    83\n",
       "9996    58\n",
       "9997    62\n",
       "9998    56\n",
       "9999    52\n",
       "Name: mean_exam_points, Length: 10000, dtype: int64"
      ]
     },
     "execution_count": 15,
     "metadata": {},
     "output_type": "execute_result"
    }
   ],
   "source": [
    "y = train[\"mean_exam_points\"]\n",
    "y"
   ]
  },
  {
   "cell_type": "markdown",
   "id": "d1f5b940-8661-4a07-a0b5-5204447ff490",
   "metadata": {},
   "source": [
    "### Алгоритм регрессии"
   ]
  },
  {
   "cell_type": "markdown",
   "id": "40c87db3-43d5-41b9-862a-d2f6c4300bc6",
   "metadata": {},
   "source": [
    "__Лист__"
   ]
  },
  {
   "cell_type": "code",
   "execution_count": 66,
   "id": "293923a0-fddd-4b63-833f-31f196b66ee4",
   "metadata": {},
   "outputs": [],
   "source": [
    "class Leaf:\n",
    "    \n",
    "    def __init__(self, data, labels):\n",
    "        self.data = data\n",
    "        self.labels = labels\n",
    "        self.prediction = self.predict()\n",
    "        \n",
    "    def predict(self):\n",
    "        return np.mean(self.labels)"
   ]
  },
  {
   "cell_type": "markdown",
   "id": "32cc4fbc-bfca-4caa-bd1b-0e3deb1c289e",
   "metadata": {},
   "source": [
    "__Узел__"
   ]
  },
  {
   "cell_type": "code",
   "execution_count": 2,
   "id": "9644d707-c0ce-44c3-b453-15e8eafb830f",
   "metadata": {},
   "outputs": [],
   "source": [
    "class Node:\n",
    "    \n",
    "    def __init__(self, index, t, true_branch, false_branch):\n",
    "        self.index = index  # Индекс признака, по которому ведется сравнение с порогом в этом узле\n",
    "        self.t = t  # Значение порога\n",
    "        self.true_branch = true_branch  # Поддерево, удовлетворяющее условию в узле\n",
    "        self.false_branch = false_branch  # Поддерево, не удовлетворяющее условию в узле"
   ]
  },
  {
   "cell_type": "markdown",
   "id": "5b06365d-c3c0-412d-8325-933aecb6fb78",
   "metadata": {},
   "source": [
    "__Ошибка регрессии__"
   ]
  },
  {
   "cell_type": "code",
   "execution_count": 19,
   "id": "53c42233-20ef-4b30-8e09-59ec9ba6881e",
   "metadata": {},
   "outputs": [],
   "source": [
    "def calc_mse(y, y_pred):\n",
    "    return np.mean((y - y_pred)**2)"
   ]
  },
  {
   "cell_type": "markdown",
   "id": "833183b0-d4b1-43ef-a0e3-0b6e4d9579ee",
   "metadata": {},
   "source": [
    "__Разбиение датасета в узле__"
   ]
  },
  {
   "cell_type": "code",
   "execution_count": 21,
   "id": "e3f13213-c57f-48b2-b5c7-1e6ec2cc57ee",
   "metadata": {},
   "outputs": [],
   "source": [
    "def split(data, labels, column_index, t):\n",
    "    \n",
    "    left = np.where(data[:, column_index] <= t)\n",
    "    right = np.where(data[:, column_index] > t)\n",
    "        \n",
    "    true_data = data[left]\n",
    "    false_data = data[right]\n",
    "    \n",
    "    true_labels = labels[left]\n",
    "    false_labels = labels[right]\n",
    "        \n",
    "    return true_data, false_data, true_labels, false_labels"
   ]
  },
  {
   "cell_type": "markdown",
   "id": "97d13884-4af8-4516-bba2-f22123ad2895",
   "metadata": {},
   "source": [
    "__Нахождение наилучшнего разбиения данных__"
   ]
  },
  {
   "cell_type": "code",
   "execution_count": 3,
   "id": "52505f98-47f1-4e8e-86b2-a89f2bd64624",
   "metadata": {},
   "outputs": [],
   "source": [
    "def find_best_split(data, labels, min_samples_leaf = 5):\n",
    "    best_mse = -1\n",
    "    best_t = None\n",
    "    best_index = None\n",
    "    \n",
    "    n_features = data.shape[1]\n",
    "    \n",
    "    for index in range(n_features):\n",
    "    \n",
    "        # Будем проверять только уникальные значения признака, исключая повторения\n",
    "        t_values = np.unique(data[:, index])\n",
    "        \n",
    "        for t in t_values:\n",
    "            true_data, false_data, true_labels, false_labels = split(data, labels, index, t)\n",
    "            \n",
    "            #  Пропускаем разбиения, в которых в узле остается менее 5 объектов\n",
    "            if len(true_data) < min_samples_leaf or len(false_data) < min_samples_leaf:\n",
    "                continue\n",
    "            \n",
    "            true_mean = np.mean(true_labels)\n",
    "            false_mean = np.mean(false_labels)\n",
    "            \n",
    "            true_centered = true_labels - true_mean\n",
    "            false_centered = false_labels - false_mean\n",
    "            \n",
    "            combined = np.concatenate((true_centered, false_centered), axis=None)\n",
    "            \n",
    "            current_mse = np.mean(combined**2)\n",
    "            \n",
    "            #  Выбираем порог, на котором получается максимальный прирост качества\n",
    "            if current_mse < best_mse or best_mse == -1:\n",
    "                best_mse, best_t, best_index = current_mse, t, index\n",
    "\n",
    "    return best_mse, best_t, best_index"
   ]
  },
  {
   "cell_type": "markdown",
   "id": "f6bd6d16-10d4-4291-9b37-b516d122810a",
   "metadata": {},
   "source": [
    "__Строительство дерева решений__"
   ]
  },
  {
   "cell_type": "code",
   "execution_count": 163,
   "id": "fac85e6d-ed9f-4b04-b4ec-2f96372a45ad",
   "metadata": {},
   "outputs": [],
   "source": [
    "def build_tree(data, labels, depth = 10, min_samples_leaf=5):\n",
    "\n",
    "    if depth <= 0:\n",
    "        return Leaf(data, labels)\n",
    "    \n",
    "    mse, t, index = find_best_split(data, labels, min_samples_leaf)\n",
    "\n",
    "    #  Базовый случай - прекращаем рекурсию, когда нет прироста в качества\n",
    "    if mse < 0.5:\n",
    "        return Leaf(data, labels)\n",
    "    \n",
    "    true_data, false_data, true_labels, false_labels = split(data, labels, index, t)\n",
    "    \n",
    "    # Рекурсивно строим два поддерева\n",
    "    true_branch = build_tree(true_data, true_labels, depth - 1, min_samples_leaf)\n",
    "    false_branch = build_tree(false_data, false_labels, depth - 1, min_samples_leaf)\n",
    "    \n",
    "    # Возвращаем класс узла со всеми поддеревьями, то есть целого дерева\n",
    "    return Node(index, t, true_branch, false_branch)"
   ]
  },
  {
   "cell_type": "markdown",
   "id": "7c19fa04-1dc6-478b-bf19-6eca882fd58f",
   "metadata": {},
   "source": [
    "__Предсказание по одному наблюдению__"
   ]
  },
  {
   "cell_type": "code",
   "execution_count": 26,
   "id": "b7e225ac-6f1e-4e3b-8179-cb12e8dcbc7b",
   "metadata": {},
   "outputs": [],
   "source": [
    "def predict_object(obj, node):\n",
    "\n",
    "    #  Останавливаем рекурсию, если достигли листа\n",
    "    if isinstance(node, Leaf):\n",
    "        answer = node.prediction\n",
    "        return answer\n",
    "\n",
    "    if obj[node.index] <= node.t:\n",
    "        return predict_object(obj, node.true_branch)\n",
    "    else:\n",
    "        return predict_object(obj, node.false_branch)"
   ]
  },
  {
   "cell_type": "markdown",
   "id": "6ec2e1e2-6997-4e6c-8fc3-a4946565cf56",
   "metadata": {},
   "source": [
    "__Предсказание__"
   ]
  },
  {
   "cell_type": "code",
   "execution_count": 89,
   "id": "286916b3-30dc-43e2-a54a-c7a9adb66871",
   "metadata": {},
   "outputs": [],
   "source": [
    "def predict(data, tree):\n",
    "    \n",
    "    values = []\n",
    "    for obj in data:\n",
    "        prediction = predict_object(obj, tree)\n",
    "        values.append(prediction)\n",
    "    return np.array(values)"
   ]
  },
  {
   "cell_type": "markdown",
   "id": "89e7ab3f-1e6a-435f-8d34-7cecef7e42c1",
   "metadata": {},
   "source": [
    "__Предсказание градиентного бустинга__"
   ]
  },
  {
   "cell_type": "code",
   "execution_count": 81,
   "id": "a67acc6a-9240-4553-8b09-e46ee1c24fd9",
   "metadata": {},
   "outputs": [],
   "source": [
    "def gb_predict(X, trees_list, eta):\n",
    "    return sum([eta * predict(X, alg) for alg in trees_list])"
   ]
  },
  {
   "cell_type": "markdown",
   "id": "3232d2f1-31fb-4434-9dc7-3cb9fff50545",
   "metadata": {},
   "source": [
    "__Обучение стохастического градиентного бустинга__"
   ]
  },
  {
   "cell_type": "code",
   "execution_count": 82,
   "id": "9161ba57-0057-44b2-bc21-b03d808b51c3",
   "metadata": {},
   "outputs": [],
   "source": [
    "def residual(y, z):\n",
    "    return -(z - y)"
   ]
  },
  {
   "cell_type": "code",
   "execution_count": 142,
   "id": "1ef7a816-4cb7-4a17-bae5-696dbac543f0",
   "metadata": {},
   "outputs": [],
   "source": [
    "def gb_fit(X_train, X_test, y_train, y_test, n_trees, depth, eta,\n",
    "                     sample_size=0.5, random_state=21):\n",
    "    # Деревья будем записывать в список\n",
    "    trees = []\n",
    "    \n",
    "    # Будем записывать ошибки на обучающей и тестовой выборке на каждой итерации в список\n",
    "    train_errors = []\n",
    "    test_errors = []\n",
    "    \n",
    "    # Количество наблюдений в выборке\n",
    "    n_samples = int(X_train.shape[0] * sample_size)\n",
    "    \n",
    "    for i in range(n_trees):\n",
    "        tree = None\n",
    "        \n",
    "        # Генерируем случайную выборку\n",
    "        sample_index = np.random.randint(0, n_samples, size=n_samples)\n",
    "        X = X_train[sample_index]\n",
    "        y = y_train[sample_index]\n",
    "        \n",
    "        # Первый алгоритм просто обучаем на выборке и добавляем в список\n",
    "        if len(trees) == 0:\n",
    "            # Обучаем первое дерево на обучающей выборке\n",
    "            tree = build_tree(X, y, depth)\n",
    "            \n",
    "            train_errors.append(calc_mse(y_train, gb_predict(X_train, trees, eta)))\n",
    "            test_errors.append(calc_mse(y_test, gb_predict(X_test, trees, eta)))\n",
    "        else:\n",
    "            # Получим ответы на текущей композиции\n",
    "            target = gb_predict(X, trees, eta)\n",
    "            \n",
    "            # Алгоритмы начиная со второго обучаем на сдвиг\n",
    "            tree = build_tree(X, residual(y, target), depth)\n",
    "            \n",
    "            train_errors.append(calc_mse(y_train, gb_predict(X_train, trees, eta)))\n",
    "            test_errors.append(calc_mse(y_test, gb_predict(X_test, trees, eta)))\n",
    "\n",
    "        trees.append(tree)\n",
    "        \n",
    "    return trees, train_errors, test_errors"
   ]
  },
  {
   "cell_type": "markdown",
   "id": "5fa90fb3-0377-4c57-a98a-a1e61b91443a",
   "metadata": {},
   "source": [
    "$R^2$ __score__"
   ]
  },
  {
   "cell_type": "code",
   "execution_count": 1,
   "id": "1250f9d8-3bf2-419e-a34e-23f600beb65b",
   "metadata": {},
   "outputs": [],
   "source": [
    "def r2_score(y, y_pred):\n",
    "    mse = sum((y - y_pred)**2)\n",
    "    tse = (len(y) - 1) * np.var(y, ddof=1)\n",
    "    r2_score = 1 - (sse / tse)\n",
    "    return r2_score"
   ]
  },
  {
   "cell_type": "markdown",
   "id": "d48d852d-5861-40a9-881f-02156d0bc03b",
   "metadata": {},
   "source": [
    "### Обучение"
   ]
  },
  {
   "cell_type": "markdown",
   "id": "7872ed5f-6f02-4769-a042-4171445f47b5",
   "metadata": {},
   "source": [
    "__Выберу данные для обучения и для валидации__"
   ]
  },
  {
   "cell_type": "code",
   "execution_count": 54,
   "id": "2d76a80d-f5e5-4552-9612-af375ae7a7f1",
   "metadata": {},
   "outputs": [],
   "source": [
    "X_train, X_valid, y_train, y_valid = train_test_split(X.drop(\"Id\", axis=1), y, test_size=0.3,\n",
    "                                                      random_state=21)"
   ]
  },
  {
   "cell_type": "code",
   "execution_count": 55,
   "id": "68eb6ccd-ed91-4243-96f2-c3c1f10348d0",
   "metadata": {},
   "outputs": [
    {
     "data": {
      "text/plain": [
       "((7000, 10), (7000,))"
      ]
     },
     "execution_count": 55,
     "metadata": {},
     "output_type": "execute_result"
    }
   ],
   "source": [
    "X_train.shape, y_train.shape"
   ]
  },
  {
   "cell_type": "markdown",
   "id": "98b35485-4bbc-47ba-b4e3-5c1806c1273a",
   "metadata": {},
   "source": [
    "__Обучу модель__"
   ]
  },
  {
   "cell_type": "code",
   "execution_count": 249,
   "id": "2bdd3c14-1cd0-4c64-83a0-aa22bd88dea9",
   "metadata": {},
   "outputs": [],
   "source": [
    "model = build_tree(X_train.to_numpy(), y_train.to_numpy(), depth=8, min_samples_leaf=55)"
   ]
  },
  {
   "cell_type": "markdown",
   "id": "d61e1841-b857-4e8a-83e7-83bd77410e1c",
   "metadata": {},
   "source": [
    "__Оценю качество__"
   ]
  },
  {
   "cell_type": "markdown",
   "id": "64c0d5eb-5e30-48ff-8ee7-2c75d1fcbc61",
   "metadata": {},
   "source": [
    "На тренировочной выборке"
   ]
  },
  {
   "cell_type": "code",
   "execution_count": 250,
   "id": "abccf97e-16db-435d-b5d5-3fbcfb33aeae",
   "metadata": {},
   "outputs": [],
   "source": [
    "y_train_pred = predict(X_train.to_numpy(), model)"
   ]
  },
  {
   "cell_type": "code",
   "execution_count": 251,
   "id": "52e3225f-d487-4627-bca3-a78b35ce56e1",
   "metadata": {},
   "outputs": [
    {
     "data": {
      "text/plain": [
       "72.16038055818838"
      ]
     },
     "execution_count": 251,
     "metadata": {},
     "output_type": "execute_result"
    }
   ],
   "source": [
    "calc_mse(y_train_pred, y_train.to_numpy())"
   ]
  },
  {
   "cell_type": "markdown",
   "id": "78db06cc-07b5-416c-a6de-0a281f4be388",
   "metadata": {},
   "source": [
    "На валидационной выборке"
   ]
  },
  {
   "cell_type": "code",
   "execution_count": 252,
   "id": "31eb275b-a43a-4cf9-9ded-16604d720802",
   "metadata": {},
   "outputs": [],
   "source": [
    "y_valid_pred = predict(X_valid.to_numpy(), model)"
   ]
  },
  {
   "cell_type": "code",
   "execution_count": 253,
   "id": "de49078c-6012-420b-b22a-882792a33583",
   "metadata": {},
   "outputs": [
    {
     "data": {
      "text/plain": [
       "77.18808251352002"
      ]
     },
     "execution_count": 253,
     "metadata": {},
     "output_type": "execute_result"
    }
   ],
   "source": [
    "calc_mse(y_valid_pred, y_valid.to_numpy())"
   ]
  },
  {
   "cell_type": "code",
   "execution_count": 266,
   "id": "beda2cc0-1ba0-436e-984b-1412c2b589b1",
   "metadata": {},
   "outputs": [
    {
     "data": {
      "text/plain": [
       "0.6425048340936599"
      ]
     },
     "execution_count": 266,
     "metadata": {},
     "output_type": "execute_result"
    }
   ],
   "source": [
    "r2_score(y_valid, y_valid_pred)"
   ]
  },
  {
   "cell_type": "markdown",
   "id": "7125240a-eaac-49c4-8538-8e7b8ee01190",
   "metadata": {},
   "source": [
    "__Пробую другие варианты__"
   ]
  },
  {
   "cell_type": "code",
   "execution_count": 238,
   "id": "ba49ef72-eee1-493b-9402-5d47a7c11e57",
   "metadata": {},
   "outputs": [
    {
     "data": {
      "text/plain": [
       "([4276.679142857143,\n",
       "  68.44541699096128,\n",
       "  61.37923817095951,\n",
       "  57.10066210185161,\n",
       "  55.098250025400226,\n",
       "  52.034122576807526],\n",
       " [4283.334333333333,\n",
       "  216.0237901234568,\n",
       "  260.65200371670096,\n",
       "  269.80561928527385,\n",
       "  213.4265390142988,\n",
       "  239.6209534034872])"
      ]
     },
     "execution_count": 238,
     "metadata": {},
     "output_type": "execute_result"
    }
   ],
   "source": [
    "trees, train_errors, test_errors = gb_fit(\n",
    "    X_train.to_numpy(),\n",
    "    X_test.to_numpy(),\n",
    "    y_train.to_numpy(),\n",
    "    y_test.to_numpy(),\n",
    "    n_trees=6,\n",
    "    depth=100,\n",
    "    sample_size=1.0,\n",
    "    eta=1.0)\n",
    "\n",
    "train_errors, test_errors"
   ]
  },
  {
   "cell_type": "markdown",
   "id": "bd2c1493-bbef-4a0a-a45e-d168aeb70e3c",
   "metadata": {},
   "source": [
    "### Предсказание"
   ]
  },
  {
   "cell_type": "code",
   "execution_count": 268,
   "id": "fa39bf82-56e5-4506-95ad-ff734b34ed30",
   "metadata": {},
   "outputs": [
    {
     "data": {
      "text/html": [
       "<div>\n",
       "<style scoped>\n",
       "    .dataframe tbody tr th:only-of-type {\n",
       "        vertical-align: middle;\n",
       "    }\n",
       "\n",
       "    .dataframe tbody tr th {\n",
       "        vertical-align: top;\n",
       "    }\n",
       "\n",
       "    .dataframe thead th {\n",
       "        text-align: right;\n",
       "    }\n",
       "</style>\n",
       "<table border=\"1\" class=\"dataframe\">\n",
       "  <thead>\n",
       "    <tr style=\"text-align: right;\">\n",
       "      <th></th>\n",
       "      <th>Id</th>\n",
       "      <th>age</th>\n",
       "      <th>years_of_experience</th>\n",
       "      <th>lesson_price</th>\n",
       "      <th>qualification</th>\n",
       "      <th>physics</th>\n",
       "      <th>chemistry</th>\n",
       "      <th>biology</th>\n",
       "      <th>english</th>\n",
       "      <th>geography</th>\n",
       "      <th>history</th>\n",
       "    </tr>\n",
       "  </thead>\n",
       "  <tbody>\n",
       "    <tr>\n",
       "      <th>0</th>\n",
       "      <td>10000</td>\n",
       "      <td>46.0</td>\n",
       "      <td>3.0</td>\n",
       "      <td>1050.0</td>\n",
       "      <td>1.0</td>\n",
       "      <td>0.0</td>\n",
       "      <td>1.0</td>\n",
       "      <td>0.0</td>\n",
       "      <td>0.0</td>\n",
       "      <td>0.0</td>\n",
       "      <td>0.0</td>\n",
       "    </tr>\n",
       "    <tr>\n",
       "      <th>1</th>\n",
       "      <td>10001</td>\n",
       "      <td>43.0</td>\n",
       "      <td>3.0</td>\n",
       "      <td>1850.0</td>\n",
       "      <td>2.0</td>\n",
       "      <td>0.0</td>\n",
       "      <td>0.0</td>\n",
       "      <td>0.0</td>\n",
       "      <td>0.0</td>\n",
       "      <td>0.0</td>\n",
       "      <td>0.0</td>\n",
       "    </tr>\n",
       "    <tr>\n",
       "      <th>2</th>\n",
       "      <td>10002</td>\n",
       "      <td>52.0</td>\n",
       "      <td>1.0</td>\n",
       "      <td>1550.0</td>\n",
       "      <td>1.0</td>\n",
       "      <td>1.0</td>\n",
       "      <td>0.0</td>\n",
       "      <td>0.0</td>\n",
       "      <td>0.0</td>\n",
       "      <td>0.0</td>\n",
       "      <td>0.0</td>\n",
       "    </tr>\n",
       "    <tr>\n",
       "      <th>3</th>\n",
       "      <td>10003</td>\n",
       "      <td>57.0</td>\n",
       "      <td>6.0</td>\n",
       "      <td>2900.0</td>\n",
       "      <td>3.0</td>\n",
       "      <td>1.0</td>\n",
       "      <td>0.0</td>\n",
       "      <td>1.0</td>\n",
       "      <td>0.0</td>\n",
       "      <td>0.0</td>\n",
       "      <td>0.0</td>\n",
       "    </tr>\n",
       "    <tr>\n",
       "      <th>4</th>\n",
       "      <td>10004</td>\n",
       "      <td>44.0</td>\n",
       "      <td>4.0</td>\n",
       "      <td>3150.0</td>\n",
       "      <td>3.0</td>\n",
       "      <td>1.0</td>\n",
       "      <td>0.0</td>\n",
       "      <td>0.0</td>\n",
       "      <td>0.0</td>\n",
       "      <td>0.0</td>\n",
       "      <td>0.0</td>\n",
       "    </tr>\n",
       "    <tr>\n",
       "      <th>...</th>\n",
       "      <td>...</td>\n",
       "      <td>...</td>\n",
       "      <td>...</td>\n",
       "      <td>...</td>\n",
       "      <td>...</td>\n",
       "      <td>...</td>\n",
       "      <td>...</td>\n",
       "      <td>...</td>\n",
       "      <td>...</td>\n",
       "      <td>...</td>\n",
       "      <td>...</td>\n",
       "    </tr>\n",
       "    <tr>\n",
       "      <th>9995</th>\n",
       "      <td>19995</td>\n",
       "      <td>42.0</td>\n",
       "      <td>0.0</td>\n",
       "      <td>1500.0</td>\n",
       "      <td>1.0</td>\n",
       "      <td>0.0</td>\n",
       "      <td>0.0</td>\n",
       "      <td>0.0</td>\n",
       "      <td>0.0</td>\n",
       "      <td>0.0</td>\n",
       "      <td>0.0</td>\n",
       "    </tr>\n",
       "    <tr>\n",
       "      <th>9996</th>\n",
       "      <td>19996</td>\n",
       "      <td>51.0</td>\n",
       "      <td>2.0</td>\n",
       "      <td>2200.0</td>\n",
       "      <td>3.0</td>\n",
       "      <td>0.0</td>\n",
       "      <td>1.0</td>\n",
       "      <td>0.0</td>\n",
       "      <td>0.0</td>\n",
       "      <td>0.0</td>\n",
       "      <td>0.0</td>\n",
       "    </tr>\n",
       "    <tr>\n",
       "      <th>9997</th>\n",
       "      <td>19997</td>\n",
       "      <td>33.0</td>\n",
       "      <td>5.0</td>\n",
       "      <td>1100.0</td>\n",
       "      <td>1.0</td>\n",
       "      <td>0.0</td>\n",
       "      <td>0.0</td>\n",
       "      <td>0.0</td>\n",
       "      <td>0.0</td>\n",
       "      <td>0.0</td>\n",
       "      <td>0.0</td>\n",
       "    </tr>\n",
       "    <tr>\n",
       "      <th>9998</th>\n",
       "      <td>19998</td>\n",
       "      <td>48.0</td>\n",
       "      <td>0.0</td>\n",
       "      <td>1750.0</td>\n",
       "      <td>2.0</td>\n",
       "      <td>0.0</td>\n",
       "      <td>0.0</td>\n",
       "      <td>0.0</td>\n",
       "      <td>0.0</td>\n",
       "      <td>0.0</td>\n",
       "      <td>0.0</td>\n",
       "    </tr>\n",
       "    <tr>\n",
       "      <th>9999</th>\n",
       "      <td>19999</td>\n",
       "      <td>49.0</td>\n",
       "      <td>5.0</td>\n",
       "      <td>2000.0</td>\n",
       "      <td>2.0</td>\n",
       "      <td>1.0</td>\n",
       "      <td>0.0</td>\n",
       "      <td>0.0</td>\n",
       "      <td>0.0</td>\n",
       "      <td>0.0</td>\n",
       "      <td>0.0</td>\n",
       "    </tr>\n",
       "  </tbody>\n",
       "</table>\n",
       "<p>10000 rows × 11 columns</p>\n",
       "</div>"
      ],
      "text/plain": [
       "         Id   age  years_of_experience  lesson_price  qualification  physics  \\\n",
       "0     10000  46.0                  3.0        1050.0            1.0      0.0   \n",
       "1     10001  43.0                  3.0        1850.0            2.0      0.0   \n",
       "2     10002  52.0                  1.0        1550.0            1.0      1.0   \n",
       "3     10003  57.0                  6.0        2900.0            3.0      1.0   \n",
       "4     10004  44.0                  4.0        3150.0            3.0      1.0   \n",
       "...     ...   ...                  ...           ...            ...      ...   \n",
       "9995  19995  42.0                  0.0        1500.0            1.0      0.0   \n",
       "9996  19996  51.0                  2.0        2200.0            3.0      0.0   \n",
       "9997  19997  33.0                  5.0        1100.0            1.0      0.0   \n",
       "9998  19998  48.0                  0.0        1750.0            2.0      0.0   \n",
       "9999  19999  49.0                  5.0        2000.0            2.0      1.0   \n",
       "\n",
       "      chemistry  biology  english  geography  history  \n",
       "0           1.0      0.0      0.0        0.0      0.0  \n",
       "1           0.0      0.0      0.0        0.0      0.0  \n",
       "2           0.0      0.0      0.0        0.0      0.0  \n",
       "3           0.0      1.0      0.0        0.0      0.0  \n",
       "4           0.0      0.0      0.0        0.0      0.0  \n",
       "...         ...      ...      ...        ...      ...  \n",
       "9995        0.0      0.0      0.0        0.0      0.0  \n",
       "9996        1.0      0.0      0.0        0.0      0.0  \n",
       "9997        0.0      0.0      0.0        0.0      0.0  \n",
       "9998        0.0      0.0      0.0        0.0      0.0  \n",
       "9999        0.0      0.0      0.0        0.0      0.0  \n",
       "\n",
       "[10000 rows x 11 columns]"
      ]
     },
     "execution_count": 268,
     "metadata": {},
     "output_type": "execute_result"
    }
   ],
   "source": [
    "test"
   ]
  },
  {
   "cell_type": "code",
   "execution_count": 272,
   "id": "e5ac5b27-27fc-4142-bc8d-d00496eb23f1",
   "metadata": {},
   "outputs": [],
   "source": [
    "test_pred = predict(test.drop('Id', axis=1).to_numpy(), model)"
   ]
  },
  {
   "cell_type": "code",
   "execution_count": 277,
   "id": "64b181f1-0f9d-4ec8-939d-7d06b15e5e1c",
   "metadata": {},
   "outputs": [
    {
     "data": {
      "text/html": [
       "<div>\n",
       "<style scoped>\n",
       "    .dataframe tbody tr th:only-of-type {\n",
       "        vertical-align: middle;\n",
       "    }\n",
       "\n",
       "    .dataframe tbody tr th {\n",
       "        vertical-align: top;\n",
       "    }\n",
       "\n",
       "    .dataframe thead th {\n",
       "        text-align: right;\n",
       "    }\n",
       "</style>\n",
       "<table border=\"1\" class=\"dataframe\">\n",
       "  <thead>\n",
       "    <tr style=\"text-align: right;\">\n",
       "      <th></th>\n",
       "      <th>Id</th>\n",
       "      <th>mean_exam_points</th>\n",
       "    </tr>\n",
       "  </thead>\n",
       "  <tbody>\n",
       "    <tr>\n",
       "      <th>0</th>\n",
       "      <td>10000</td>\n",
       "      <td>54.500000</td>\n",
       "    </tr>\n",
       "    <tr>\n",
       "      <th>1</th>\n",
       "      <td>10001</td>\n",
       "      <td>63.631818</td>\n",
       "    </tr>\n",
       "    <tr>\n",
       "      <th>2</th>\n",
       "      <td>10002</td>\n",
       "      <td>43.313953</td>\n",
       "    </tr>\n",
       "    <tr>\n",
       "      <th>3</th>\n",
       "      <td>10003</td>\n",
       "      <td>88.943820</td>\n",
       "    </tr>\n",
       "    <tr>\n",
       "      <th>4</th>\n",
       "      <td>10004</td>\n",
       "      <td>87.015385</td>\n",
       "    </tr>\n",
       "    <tr>\n",
       "      <th>...</th>\n",
       "      <td>...</td>\n",
       "      <td>...</td>\n",
       "    </tr>\n",
       "    <tr>\n",
       "      <th>9995</th>\n",
       "      <td>19995</td>\n",
       "      <td>40.247706</td>\n",
       "    </tr>\n",
       "    <tr>\n",
       "      <th>9996</th>\n",
       "      <td>19996</td>\n",
       "      <td>81.428571</td>\n",
       "    </tr>\n",
       "    <tr>\n",
       "      <th>9997</th>\n",
       "      <td>19997</td>\n",
       "      <td>54.500000</td>\n",
       "    </tr>\n",
       "    <tr>\n",
       "      <th>9998</th>\n",
       "      <td>19998</td>\n",
       "      <td>63.631818</td>\n",
       "    </tr>\n",
       "    <tr>\n",
       "      <th>9999</th>\n",
       "      <td>19999</td>\n",
       "      <td>72.680556</td>\n",
       "    </tr>\n",
       "  </tbody>\n",
       "</table>\n",
       "<p>10000 rows × 2 columns</p>\n",
       "</div>"
      ],
      "text/plain": [
       "         Id  mean_exam_points\n",
       "0     10000         54.500000\n",
       "1     10001         63.631818\n",
       "2     10002         43.313953\n",
       "3     10003         88.943820\n",
       "4     10004         87.015385\n",
       "...     ...               ...\n",
       "9995  19995         40.247706\n",
       "9996  19996         81.428571\n",
       "9997  19997         54.500000\n",
       "9998  19998         63.631818\n",
       "9999  19999         72.680556\n",
       "\n",
       "[10000 rows x 2 columns]"
      ]
     },
     "execution_count": 277,
     "metadata": {},
     "output_type": "execute_result"
    }
   ],
   "source": [
    "submission = pd.DataFrame({'Id': test['Id'], 'mean_exam_points': test_pred})\n",
    "submission"
   ]
  },
  {
   "cell_type": "code",
   "execution_count": 280,
   "id": "46d6f8d9-1a14-41e2-82a5-eeda0ad848b4",
   "metadata": {},
   "outputs": [],
   "source": [
    "submission.to_csv('submission.csv', index=False)"
   ]
  },
  {
   "cell_type": "markdown",
   "id": "5cfc6d85-a6e2-4901-ad19-4bf0055937ed",
   "metadata": {},
   "source": [
    "Конец!"
   ]
  }
 ],
 "metadata": {
  "kernelspec": {
   "display_name": "Python 3 (ipykernel)",
   "language": "python",
   "name": "python3"
  },
  "language_info": {
   "codemirror_mode": {
    "name": "ipython",
    "version": 3
   },
   "file_extension": ".py",
   "mimetype": "text/x-python",
   "name": "python",
   "nbconvert_exporter": "python",
   "pygments_lexer": "ipython3",
   "version": "3.9.7"
  }
 },
 "nbformat": 4,
 "nbformat_minor": 5
}
